{
  "nbformat": 4,
  "nbformat_minor": 0,
  "metadata": {
    "colab": {
      "name": "ML_for_Data_Science_Kaggle_data_set_2.ipynb",
      "provenance": [],
      "collapsed_sections": [],
      "authorship_tag": "ABX9TyOVDHfmQ08hsqc3htVDNXmy",
      "include_colab_link": true
    },
    "kernelspec": {
      "name": "python3",
      "display_name": "Python 3"
    },
    "language_info": {
      "name": "python"
    }
  },
  "cells": [
    {
      "cell_type": "markdown",
      "metadata": {
        "id": "view-in-github",
        "colab_type": "text"
      },
      "source": [
        "<a href=\"https://colab.research.google.com/github/janhavi-giri/Kaggle_Projects_Part_2/blob/main/ML_for_Data_Science_Kaggle_data_set_2.ipynb\" target=\"_parent\"><img src=\"https://colab.research.google.com/assets/colab-badge.svg\" alt=\"Open In Colab\"/></a>"
      ]
    },
    {
      "cell_type": "code",
      "metadata": {
        "colab": {
          "base_uri": "https://localhost:8080/"
        },
        "id": "fxIziJBVMayK",
        "outputId": "19b47301-0faf-425c-fb0d-f1851d803e61"
      },
      "source": [
        "from google.colab import drive\n",
        "drive.mount('/content/drive')\n",
        "import os\n",
        "os.chdir('/content/drive/MyDrive/Colab Notebooks/ML_midterm')\n",
        "pwd = os.getcwd()\n",
        "print(pwd)"
      ],
      "execution_count": null,
      "outputs": [
        {
          "output_type": "stream",
          "text": [
            "Mounted at /content/drive\n",
            "/content/drive/MyDrive/Colab Notebooks/ML_midterm\n"
          ],
          "name": "stdout"
        }
      ]
    },
    {
      "cell_type": "code",
      "metadata": {
        "id": "f_z8lIAPrBWv"
      },
      "source": [
        "# Importing the necessary libraries\n",
        "import os\n",
        "import numpy as np\n",
        "import pandas as pd\n",
        "from sklearn.preprocessing import StandardScaler\n",
        "from sklearn.preprocessing import MinMaxScaler\n",
        "from sklearn.decomposition import PCA\n",
        "import matplotlib.pyplot as plt\n",
        "import seaborn as sns\n",
        "import statsmodels.api as sm\n",
        "%matplotlib inline\n",
        "from sklearn.model_selection import train_test_split\n",
        "from sklearn.linear_model import LinearRegression\n",
        "from sklearn.feature_selection import RFE\n",
        "from sklearn.linear_model import RidgeCV, LassoCV, Ridge, Lasso\n",
        "from sklearn.ensemble import RandomForestClassifier\n",
        "from sklearn.metrics import confusion_matrix"
      ],
      "execution_count": null,
      "outputs": []
    },
    {
      "cell_type": "markdown",
      "metadata": {
        "id": "CJrYwt1AeE8u"
      },
      "source": [
        "# Data Pre-processing"
      ]
    },
    {
      "cell_type": "code",
      "metadata": {
        "colab": {
          "base_uri": "https://localhost:8080/"
        },
        "id": "oP7dOI05NdHX",
        "outputId": "30732d41-86b6-46af-f1a7-2a1db01cd053"
      },
      "source": [
        "# Step1: Explore and cleaning the data set\n",
        "# Read the data from csv file\n",
        "df = pd.read_csv('online_shoppers_intention.csv')\n",
        "print(\"# of features in dataset are =\", df.shape[1])\n",
        "print(\"# of samples in dataset are =\", df.shape[0])\n",
        "#List name of features\n",
        "print(\"Features of data set are =\", df.columns)\n",
        "#List datatypes of features\n",
        "print(\"Feature datatypes are=\",df.dtypes)"
      ],
      "execution_count": null,
      "outputs": [
        {
          "output_type": "stream",
          "text": [
            "# of features in dataset are = 18\n",
            "# of samples in dataset are = 12330\n",
            "Features of data set are = Index(['Administrative', 'Administrative_Duration', 'Informational',\n",
            "       'Informational_Duration', 'ProductRelated', 'ProductRelated_Duration',\n",
            "       'BounceRates', 'ExitRates', 'PageValues', 'SpecialDay', 'Month',\n",
            "       'OperatingSystems', 'Browser', 'Region', 'TrafficType', 'VisitorType',\n",
            "       'Weekend', 'Revenue'],\n",
            "      dtype='object')\n",
            "Feature datatypes are= Administrative               int64\n",
            "Administrative_Duration    float64\n",
            "Informational                int64\n",
            "Informational_Duration     float64\n",
            "ProductRelated               int64\n",
            "ProductRelated_Duration    float64\n",
            "BounceRates                float64\n",
            "ExitRates                  float64\n",
            "PageValues                 float64\n",
            "SpecialDay                 float64\n",
            "Month                       object\n",
            "OperatingSystems             int64\n",
            "Browser                      int64\n",
            "Region                       int64\n",
            "TrafficType                  int64\n",
            "VisitorType                 object\n",
            "Weekend                       bool\n",
            "Revenue                       bool\n",
            "dtype: object\n"
          ],
          "name": "stdout"
        }
      ]
    },
    {
      "cell_type": "code",
      "metadata": {
        "colab": {
          "base_uri": "https://localhost:8080/"
        },
        "id": "59-b7d8IOHjq",
        "outputId": "411796ca-63ef-4a42-a316-f239ea509a75"
      },
      "source": [
        "# Investigate the data set for any null values\n",
        "for col in df.columns.to_list():\n",
        "    print(\"Column\", col, \"Null value count=\", df[col].isnull().sum())\n",
        "    if(df[col].isnull().sum()!=0):\n",
        "        print(\"Column has null count=\",col, df[col].isnull().sum(), \"and their datatype is\",df[col].dtypes )\n",
        "        "
      ],
      "execution_count": null,
      "outputs": [
        {
          "output_type": "stream",
          "text": [
            "Column Administrative Null value count= 0\n",
            "Column Administrative_Duration Null value count= 0\n",
            "Column Informational Null value count= 0\n",
            "Column Informational_Duration Null value count= 0\n",
            "Column ProductRelated Null value count= 0\n",
            "Column ProductRelated_Duration Null value count= 0\n",
            "Column BounceRates Null value count= 0\n",
            "Column ExitRates Null value count= 0\n",
            "Column PageValues Null value count= 0\n",
            "Column SpecialDay Null value count= 0\n",
            "Column Month Null value count= 0\n",
            "Column OperatingSystems Null value count= 0\n",
            "Column Browser Null value count= 0\n",
            "Column Region Null value count= 0\n",
            "Column TrafficType Null value count= 0\n",
            "Column VisitorType Null value count= 0\n",
            "Column Weekend Null value count= 0\n",
            "Column Revenue Null value count= 0\n"
          ],
          "name": "stdout"
        }
      ]
    },
    {
      "cell_type": "code",
      "metadata": {
        "colab": {
          "base_uri": "https://localhost:8080/"
        },
        "id": "UIRRND6HjJCH",
        "outputId": "36926e03-c202-4b02-f11a-b8bd95b59d61"
      },
      "source": [
        "# Verified above that the given data set doesn't contain any Null values\n",
        "#Determine non-numeric and boolean features\n",
        "non_numeric_columns = list(df.select_dtypes(include='object'))\n",
        "print(\"Non-numeric columns are=\",non_numeric_columns)        \n",
        "bool_columns = list(df.select_dtypes(include='bool'))\n",
        "print(\"Boolean columns are=\", bool_columns)    \n",
        "for col in non_numeric_columns:\n",
        "   print(\"Non-numeric columns are=\\n\",  df[col].value_counts())\n",
        "for col in bool_columns:\n",
        "   print(\"Boolean columns are=\\n\",  df[col].value_counts())"
      ],
      "execution_count": null,
      "outputs": [
        {
          "output_type": "stream",
          "text": [
            "Non-numeric columns are= ['Month', 'VisitorType']\n",
            "Boolean columns are= ['Weekend', 'Revenue']\n",
            "Non-numeric columns are=\n",
            " May     3364\n",
            "Nov     2998\n",
            "Mar     1907\n",
            "Dec     1727\n",
            "Oct      549\n",
            "Sep      448\n",
            "Aug      433\n",
            "Jul      432\n",
            "June     288\n",
            "Feb      184\n",
            "Name: Month, dtype: int64\n",
            "Non-numeric columns are=\n",
            " Returning_Visitor    10551\n",
            "New_Visitor           1694\n",
            "Other                   85\n",
            "Name: VisitorType, dtype: int64\n",
            "Boolean columns are=\n",
            " False    9462\n",
            "True     2868\n",
            "Name: Weekend, dtype: int64\n",
            "Boolean columns are=\n",
            " False    10422\n",
            "True      1908\n",
            "Name: Revenue, dtype: int64\n"
          ],
          "name": "stdout"
        }
      ]
    },
    {
      "cell_type": "markdown",
      "metadata": {
        "id": "BTmPCvCiePM6"
      },
      "source": [
        "# Creating the train dataset for records from months June-Sep and test datasets for records from Oct-Dec and Feb-Mar.\n",
        "#For both train and test dataset, the non-numeric labels are mapped to numeric values."
      ]
    },
    {
      "cell_type": "code",
      "metadata": {
        "colab": {
          "base_uri": "https://localhost:8080/"
        },
        "id": "-IWJJ39mblcK",
        "outputId": "65a48ed8-3339-4f22-f830-0eb7c8126ed8"
      },
      "source": [
        "# Determine the non-numeric features and convert them to numeric\n",
        "#For task3-part1, test data from Oct-Dec\n",
        "# For 'Month'\n",
        "train_month_col = ['June', 'Jul','Aug','Sep']\n",
        "test_month_col = ['Oct','Nov','Dec']\n",
        "train_df = df[df['Month'].isin(train_month_col)]\n",
        "test_df = df[df['Month'].isin(test_month_col)]\n",
        "print(\"Train data set shape after labeling=\", train_df.shape)\n",
        "print(\"Test data set shape after labeling=\", test_df.shape)\n",
        "print()\n",
        "print(\"Before labeling train data set months/counts=\\n\",train_df.Month.value_counts())\n",
        "print()\n",
        "print(\"Before labeling test data set months/counts=\\n\",test_df.Month.value_counts())\n",
        "print()\n",
        "train_month_num = [6,7,8,9]\n",
        "test_month_num =[10,11,12]\n",
        "train_df['Month'] = train_df['Month'].replace(train_month_col, train_month_num)\n",
        "test_df['Month'] = test_df['Month'].replace(test_month_col, test_month_num)\n",
        "print(\"Train data set shape after labeling=\\n\", train_df.shape)\n",
        "print(\"Test data set shape after labeling=\", test_df.shape)\n",
        "print()\n",
        "print(\"After labeling train data set months/counts=\\n\",train_df.Month.value_counts())\n",
        "print()\n",
        "print(\"After labeling test data set months/counts=\\n\",test_df.Month.value_counts())\n",
        "\n"
      ],
      "execution_count": null,
      "outputs": [
        {
          "output_type": "stream",
          "text": [
            "Train data set shape after labeling= (1601, 18)\n",
            "Test data set shape after labeling= (5274, 18)\n",
            "\n",
            "Before labeling train data set months/counts=\n",
            " Sep     448\n",
            "Aug     433\n",
            "Jul     432\n",
            "June    288\n",
            "Name: Month, dtype: int64\n",
            "\n",
            "Before labeling test data set months/counts=\n",
            " Nov    2998\n",
            "Dec    1727\n",
            "Oct     549\n",
            "Name: Month, dtype: int64\n",
            "\n",
            "Train data set shape after labeling=\n",
            " (1601, 18)\n",
            "Test data set shape after labeling= (5274, 18)\n",
            "\n",
            "After labeling train data set months/counts=\n",
            " 9    448\n",
            "8    433\n",
            "7    432\n",
            "6    288\n",
            "Name: Month, dtype: int64\n",
            "\n",
            "After labeling test data set months/counts=\n",
            " 11    2998\n",
            "12    1727\n",
            "10     549\n",
            "Name: Month, dtype: int64\n"
          ],
          "name": "stdout"
        },
        {
          "output_type": "stream",
          "text": [
            "/usr/local/lib/python3.7/dist-packages/ipykernel_launcher.py:17: SettingWithCopyWarning: \n",
            "A value is trying to be set on a copy of a slice from a DataFrame.\n",
            "Try using .loc[row_indexer,col_indexer] = value instead\n",
            "\n",
            "See the caveats in the documentation: https://pandas.pydata.org/pandas-docs/stable/user_guide/indexing.html#returning-a-view-versus-a-copy\n",
            "/usr/local/lib/python3.7/dist-packages/ipykernel_launcher.py:18: SettingWithCopyWarning: \n",
            "A value is trying to be set on a copy of a slice from a DataFrame.\n",
            "Try using .loc[row_indexer,col_indexer] = value instead\n",
            "\n",
            "See the caveats in the documentation: https://pandas.pydata.org/pandas-docs/stable/user_guide/indexing.html#returning-a-view-versus-a-copy\n"
          ],
          "name": "stderr"
        }
      ]
    },
    {
      "cell_type": "code",
      "metadata": {
        "colab": {
          "base_uri": "https://localhost:8080/"
        },
        "id": "Fq591e9C64C2",
        "outputId": "c72e35be-5139-4a72-b991-905281d59733"
      },
      "source": [
        "#For task3-part2, test data from Feb-Mar\n",
        "test2_month_col = ['Feb','Mar']\n",
        "test2_df = df[df['Month'].isin(test2_month_col)]\n",
        "print(\"Test data#2 set shape before labeling=\", test2_df.shape)\n",
        "print()\n",
        "print(\"Before labeling test data#2 set months/counts=\\n\",test2_df.Month.value_counts())\n",
        "print()\n",
        "\n",
        "test2_month_num =[2,3]\n",
        "test2_df['Month'] = test2_df['Month'].replace(test2_month_col, test2_month_num)\n",
        "\n",
        "print(\"Test data#2 set shape after labeling=\", test2_df.shape)\n",
        "print()\n",
        "print(\"After labeling test data#2 set months/counts=\\n\",test2_df.Month.value_counts())"
      ],
      "execution_count": null,
      "outputs": [
        {
          "output_type": "stream",
          "text": [
            "Test data#2 set shape before labeling= (2091, 18)\n",
            "\n",
            "Before labeling test data#2 set months/counts=\n",
            " Mar    1907\n",
            "Feb     184\n",
            "Name: Month, dtype: int64\n",
            "\n",
            "Test data#2 set shape after labeling= (2091, 18)\n",
            "\n",
            "After labeling test data#2 set months/counts=\n",
            " 3    1907\n",
            "2     184\n",
            "Name: Month, dtype: int64\n"
          ],
          "name": "stdout"
        },
        {
          "output_type": "stream",
          "text": [
            "/usr/local/lib/python3.7/dist-packages/ipykernel_launcher.py:10: SettingWithCopyWarning: \n",
            "A value is trying to be set on a copy of a slice from a DataFrame.\n",
            "Try using .loc[row_indexer,col_indexer] = value instead\n",
            "\n",
            "See the caveats in the documentation: https://pandas.pydata.org/pandas-docs/stable/user_guide/indexing.html#returning-a-view-versus-a-copy\n",
            "  # Remove the CWD from sys.path while we load stuff.\n"
          ],
          "name": "stderr"
        }
      ]
    },
    {
      "cell_type": "code",
      "metadata": {
        "colab": {
          "base_uri": "https://localhost:8080/"
        },
        "id": "4s8xkZQM23rK",
        "outputId": "6006abc6-a704-41fc-f03e-3393c7fabc03"
      },
      "source": [
        "# For 'Visitor_type'\n",
        "visitor_type = ['Returning_Visitor', 'New_Visitor', 'Other']\n",
        "print(\"Before labeling train data set VisitorType/counts=\\n\",train_df.VisitorType.value_counts())\n",
        "print()\n",
        "print(\"Before labeling test data set VisitorType/counts=\\n\",test_df.VisitorType.value_counts())\n",
        "print()\n",
        "train_df['VisitorType'] = train_df['VisitorType'].replace(visitor_type, [0,1,2])\n",
        "test_df['VisitorType'] = test_df['VisitorType'].replace(visitor_type, [0,1,2])\n",
        "print(\"After labeling train data set VisitorType/counts=\\n\",train_df.VisitorType.value_counts())\n",
        "print()\n",
        "print(\"After labeling test data set VisitorType/counts=\\n\",test_df.VisitorType.value_counts())\n",
        "print()\n",
        "# for task3 part2 test data\n",
        "print(\"Before labeling test data set#2 VisitorType/counts=\\n\",test2_df.VisitorType.value_counts())\n",
        "print()\n",
        "test2_df['VisitorType'] = test2_df['VisitorType'].replace(visitor_type, [0,1,2])\n",
        "print(\"After labeling test data#2 set VisitorType/counts=\\n\",test2_df.VisitorType.value_counts())\n",
        "print()"
      ],
      "execution_count": null,
      "outputs": [
        {
          "output_type": "stream",
          "text": [
            "Before labeling train data set VisitorType/counts=\n",
            " Returning_Visitor    1336\n",
            "New_Visitor           264\n",
            "Other                   1\n",
            "Name: VisitorType, dtype: int64\n",
            "\n",
            "Before labeling test data set VisitorType/counts=\n",
            " Returning_Visitor    4312\n",
            "New_Visitor           878\n",
            "Other                  84\n",
            "Name: VisitorType, dtype: int64\n",
            "\n",
            "After labeling train data set VisitorType/counts=\n",
            " 0    1336\n",
            "1     264\n",
            "2       1\n",
            "Name: VisitorType, dtype: int64\n",
            "\n",
            "After labeling test data set VisitorType/counts=\n",
            " 0    4312\n",
            "1     878\n",
            "2      84\n",
            "Name: VisitorType, dtype: int64\n",
            "\n",
            "Before labeling test data set#2 VisitorType/counts=\n",
            " Returning_Visitor    1858\n",
            "New_Visitor           233\n",
            "Name: VisitorType, dtype: int64\n",
            "\n",
            "After labeling test data#2 set VisitorType/counts=\n",
            " 0    1858\n",
            "1     233\n",
            "Name: VisitorType, dtype: int64\n",
            "\n"
          ],
          "name": "stdout"
        },
        {
          "output_type": "stream",
          "text": [
            "/usr/local/lib/python3.7/dist-packages/ipykernel_launcher.py:7: SettingWithCopyWarning: \n",
            "A value is trying to be set on a copy of a slice from a DataFrame.\n",
            "Try using .loc[row_indexer,col_indexer] = value instead\n",
            "\n",
            "See the caveats in the documentation: https://pandas.pydata.org/pandas-docs/stable/user_guide/indexing.html#returning-a-view-versus-a-copy\n",
            "  import sys\n",
            "/usr/local/lib/python3.7/dist-packages/ipykernel_launcher.py:8: SettingWithCopyWarning: \n",
            "A value is trying to be set on a copy of a slice from a DataFrame.\n",
            "Try using .loc[row_indexer,col_indexer] = value instead\n",
            "\n",
            "See the caveats in the documentation: https://pandas.pydata.org/pandas-docs/stable/user_guide/indexing.html#returning-a-view-versus-a-copy\n",
            "  \n",
            "/usr/local/lib/python3.7/dist-packages/ipykernel_launcher.py:16: SettingWithCopyWarning: \n",
            "A value is trying to be set on a copy of a slice from a DataFrame.\n",
            "Try using .loc[row_indexer,col_indexer] = value instead\n",
            "\n",
            "See the caveats in the documentation: https://pandas.pydata.org/pandas-docs/stable/user_guide/indexing.html#returning-a-view-versus-a-copy\n",
            "  app.launch_new_instance()\n"
          ],
          "name": "stderr"
        }
      ]
    },
    {
      "cell_type": "code",
      "metadata": {
        "colab": {
          "base_uri": "https://localhost:8080/"
        },
        "id": "jTSBV3F9kkm9",
        "outputId": "0ff4ba60-c37d-435d-c0a7-9cd391533a0a"
      },
      "source": [
        "# For 'Weekend' and 'Revenue'\n",
        "for col in bool_columns:\n",
        "  print(f\"Before labeling train data set {col}/counts=\\n\",train_df[col].value_counts())\n",
        "  print(f\"Before labeling test data set {col}/counts=\\n\",test_df[col].value_counts())\n",
        "  print(f\"Before labeling test data#2 set {col}/counts=\\n\",test2_df[col].value_counts())\n",
        "  \n",
        "\n",
        "for col in bool_columns:\n",
        "  train_df[col] = train_df[col] * 1\n",
        "  test_df[col] = test_df[col] * 1\n",
        "  test2_df[col] = test2_df[col] * 1\n",
        "\n",
        "for col in bool_columns:\n",
        "  print(f\"After labeling train data set {col}/counts=\\n\",train_df[col].value_counts())\n",
        "  print(f\"After labeling test data set {col}/counts=\\n\",test_df[col].value_counts())\n",
        "  print(f\"After labeling test data#2 set {col}/counts=\\n\",test2_df[col].value_counts())\n"
      ],
      "execution_count": null,
      "outputs": [
        {
          "output_type": "stream",
          "text": [
            "Before labeling train data set Weekend/counts=\n",
            " False    1258\n",
            "True      343\n",
            "Name: Weekend, dtype: int64\n",
            "Before labeling test data set Weekend/counts=\n",
            " False    3973\n",
            "True     1301\n",
            "Name: Weekend, dtype: int64\n",
            "Before labeling test data#2 set Weekend/counts=\n",
            " False    1582\n",
            "True      509\n",
            "Name: Weekend, dtype: int64\n",
            "Before labeling train data set Revenue/counts=\n",
            " False    1344\n",
            "True      257\n",
            "Name: Revenue, dtype: int64\n",
            "Before labeling test data set Revenue/counts=\n",
            " False    4183\n",
            "True     1091\n",
            "Name: Revenue, dtype: int64\n",
            "Before labeling test data#2 set Revenue/counts=\n",
            " False    1896\n",
            "True      195\n",
            "Name: Revenue, dtype: int64\n",
            "After labeling train data set Weekend/counts=\n",
            " 0    1258\n",
            "1     343\n",
            "Name: Weekend, dtype: int64\n",
            "After labeling test data set Weekend/counts=\n",
            " 0    3973\n",
            "1    1301\n",
            "Name: Weekend, dtype: int64\n",
            "After labeling test data#2 set Weekend/counts=\n",
            " 0    1582\n",
            "1     509\n",
            "Name: Weekend, dtype: int64\n",
            "After labeling train data set Revenue/counts=\n",
            " 0    1344\n",
            "1     257\n",
            "Name: Revenue, dtype: int64\n",
            "After labeling test data set Revenue/counts=\n",
            " 0    4183\n",
            "1    1091\n",
            "Name: Revenue, dtype: int64\n",
            "After labeling test data#2 set Revenue/counts=\n",
            " 0    1896\n",
            "1     195\n",
            "Name: Revenue, dtype: int64\n"
          ],
          "name": "stdout"
        },
        {
          "output_type": "stream",
          "text": [
            "/usr/local/lib/python3.7/dist-packages/ipykernel_launcher.py:9: SettingWithCopyWarning: \n",
            "A value is trying to be set on a copy of a slice from a DataFrame.\n",
            "Try using .loc[row_indexer,col_indexer] = value instead\n",
            "\n",
            "See the caveats in the documentation: https://pandas.pydata.org/pandas-docs/stable/user_guide/indexing.html#returning-a-view-versus-a-copy\n",
            "  if __name__ == '__main__':\n",
            "/usr/local/lib/python3.7/dist-packages/ipykernel_launcher.py:10: SettingWithCopyWarning: \n",
            "A value is trying to be set on a copy of a slice from a DataFrame.\n",
            "Try using .loc[row_indexer,col_indexer] = value instead\n",
            "\n",
            "See the caveats in the documentation: https://pandas.pydata.org/pandas-docs/stable/user_guide/indexing.html#returning-a-view-versus-a-copy\n",
            "  # Remove the CWD from sys.path while we load stuff.\n",
            "/usr/local/lib/python3.7/dist-packages/ipykernel_launcher.py:11: SettingWithCopyWarning: \n",
            "A value is trying to be set on a copy of a slice from a DataFrame.\n",
            "Try using .loc[row_indexer,col_indexer] = value instead\n",
            "\n",
            "See the caveats in the documentation: https://pandas.pydata.org/pandas-docs/stable/user_guide/indexing.html#returning-a-view-versus-a-copy\n",
            "  # This is added back by InteractiveShellApp.init_path()\n"
          ],
          "name": "stderr"
        }
      ]
    },
    {
      "cell_type": "code",
      "metadata": {
        "colab": {
          "base_uri": "https://localhost:8080/"
        },
        "id": "zaFRC0U2U0u8",
        "outputId": "6a31a594-650d-4258-8709-691ec4b11224"
      },
      "source": [
        "print(\"Training dataset after converting non-numeric/boolean features to numeric datatypes=\\n\", train_df.dtypes)\n",
        "print(\"Test dataset after converting non-numeric/boolean features to numeric datatypes=\\n\", test_df.dtypes)\n",
        "print(\"Test dataset#2 after converting non-numeric/boolean features to numeric datatypes=\\n\", test2_df.dtypes)\n",
        "print(\"Features in training dataset are=\\n\", train_df.columns)\n",
        "print(\"Features in test dataset are=\\n\", test_df.columns)\n",
        "print(\"Features in test dataset#2 are=\\n\", test_df.columns)\n"
      ],
      "execution_count": null,
      "outputs": [
        {
          "output_type": "stream",
          "text": [
            "Training dataset after converting non-numeric/boolean features to numeric datatypes=\n",
            " Administrative               int64\n",
            "Administrative_Duration    float64\n",
            "Informational                int64\n",
            "Informational_Duration     float64\n",
            "ProductRelated               int64\n",
            "ProductRelated_Duration    float64\n",
            "BounceRates                float64\n",
            "ExitRates                  float64\n",
            "PageValues                 float64\n",
            "SpecialDay                 float64\n",
            "Month                        int64\n",
            "OperatingSystems             int64\n",
            "Browser                      int64\n",
            "Region                       int64\n",
            "TrafficType                  int64\n",
            "VisitorType                  int64\n",
            "Weekend                      int64\n",
            "Revenue                      int64\n",
            "dtype: object\n",
            "Test dataset after converting non-numeric/boolean features to numeric datatypes=\n",
            " Administrative               int64\n",
            "Administrative_Duration    float64\n",
            "Informational                int64\n",
            "Informational_Duration     float64\n",
            "ProductRelated               int64\n",
            "ProductRelated_Duration    float64\n",
            "BounceRates                float64\n",
            "ExitRates                  float64\n",
            "PageValues                 float64\n",
            "SpecialDay                 float64\n",
            "Month                        int64\n",
            "OperatingSystems             int64\n",
            "Browser                      int64\n",
            "Region                       int64\n",
            "TrafficType                  int64\n",
            "VisitorType                  int64\n",
            "Weekend                      int64\n",
            "Revenue                      int64\n",
            "dtype: object\n",
            "Test dataset#2 after converting non-numeric/boolean features to numeric datatypes=\n",
            " Administrative               int64\n",
            "Administrative_Duration    float64\n",
            "Informational                int64\n",
            "Informational_Duration     float64\n",
            "ProductRelated               int64\n",
            "ProductRelated_Duration    float64\n",
            "BounceRates                float64\n",
            "ExitRates                  float64\n",
            "PageValues                 float64\n",
            "SpecialDay                 float64\n",
            "Month                        int64\n",
            "OperatingSystems             int64\n",
            "Browser                      int64\n",
            "Region                       int64\n",
            "TrafficType                  int64\n",
            "VisitorType                  int64\n",
            "Weekend                      int64\n",
            "Revenue                      int64\n",
            "dtype: object\n",
            "Features in training dataset are=\n",
            " Index(['Administrative', 'Administrative_Duration', 'Informational',\n",
            "       'Informational_Duration', 'ProductRelated', 'ProductRelated_Duration',\n",
            "       'BounceRates', 'ExitRates', 'PageValues', 'SpecialDay', 'Month',\n",
            "       'OperatingSystems', 'Browser', 'Region', 'TrafficType', 'VisitorType',\n",
            "       'Weekend', 'Revenue'],\n",
            "      dtype='object')\n",
            "Features in test dataset are=\n",
            " Index(['Administrative', 'Administrative_Duration', 'Informational',\n",
            "       'Informational_Duration', 'ProductRelated', 'ProductRelated_Duration',\n",
            "       'BounceRates', 'ExitRates', 'PageValues', 'SpecialDay', 'Month',\n",
            "       'OperatingSystems', 'Browser', 'Region', 'TrafficType', 'VisitorType',\n",
            "       'Weekend', 'Revenue'],\n",
            "      dtype='object')\n",
            "Features in test dataset#2 are=\n",
            " Index(['Administrative', 'Administrative_Duration', 'Informational',\n",
            "       'Informational_Duration', 'ProductRelated', 'ProductRelated_Duration',\n",
            "       'BounceRates', 'ExitRates', 'PageValues', 'SpecialDay', 'Month',\n",
            "       'OperatingSystems', 'Browser', 'Region', 'TrafficType', 'VisitorType',\n",
            "       'Weekend', 'Revenue'],\n",
            "      dtype='object')\n"
          ],
          "name": "stdout"
        }
      ]
    },
    {
      "cell_type": "markdown",
      "metadata": {
        "id": "XUzzhOktfHCg"
      },
      "source": [
        "# Train and Test datasets are ready, see the shapes"
      ]
    },
    {
      "cell_type": "code",
      "metadata": {
        "colab": {
          "base_uri": "https://localhost:8080/"
        },
        "id": "T1Vp9iste3yG",
        "outputId": "99dc5df3-45e2-4e2c-e6f6-ea8bf101e6e6"
      },
      "source": [
        "# Training and test data shape\n",
        "print(\"Size of the training dataset is=\\n\",train_df.shape, \"# of samples=\", train_df.shape[0], '# of features=', train_df.shape[1])\n",
        "print(\"Size in test dataset is=\\n\", test_df.shape, ' # of samples=', test_df.shape[0], '# of features=', test_df.shape[1])\n",
        "print(\"Size in test dataset#2 is=\\n\", test2_df.shape, ' # of samples=', test2_df.shape[0], '# of features=', test2_df.shape[1])"
      ],
      "execution_count": null,
      "outputs": [
        {
          "output_type": "stream",
          "text": [
            "Size of the training dataset is=\n",
            " (1601, 18) # of samples= 1601 # of features= 18\n",
            "Size in test dataset is=\n",
            " (5274, 18)  # of samples= 5274 # of features= 18\n",
            "Size in test dataset#2 is=\n",
            " (2091, 18)  # of samples= 2091 # of features= 18\n"
          ],
          "name": "stdout"
        }
      ]
    },
    {
      "cell_type": "markdown",
      "metadata": {
        "id": "unfBja3cIteq"
      },
      "source": [
        "#For all records from Oct-Dec, the 'Revenue' attribute is missing. Build a semi-supervised self labelling model to estimate 'Revenue' for the missing records in Oct-Dec and then fit your classifier."
      ]
    },
    {
      "cell_type": "markdown",
      "metadata": {
        "id": "WJbMHdqY1g7G"
      },
      "source": [
        "#Label Spreading (Semi-Supervised)"
      ]
    },
    {
      "cell_type": "markdown",
      "metadata": {
        "id": "9fSjgVsv9uNM"
      },
      "source": [
        "#For train and test dataset # 1 : Oct-Dec, converting the dataframes to numpy arrays"
      ]
    },
    {
      "cell_type": "code",
      "metadata": {
        "colab": {
          "base_uri": "https://localhost:8080/"
        },
        "id": "oa7KP2OM6CZs",
        "outputId": "20aa8106-b91a-41a9-ed06-59e4d0b57602"
      },
      "source": [
        "# For test dataset # 1 : Oct-Dec\n",
        "train_arr_x = train_df.drop(columns=['Revenue']).values\n",
        "train_arr_y = train_df.Revenue.values.reshape((-1,1))\n",
        "test_arr_x = test_df.drop(columns=['Revenue']).values\n",
        "test_arr_y = test_df.Revenue.values.reshape((-1,1))\n",
        "print(train_arr_x.shape,train_arr_y.shape,test_arr_x.shape,test_arr_y.shape)\n"
      ],
      "execution_count": null,
      "outputs": [
        {
          "output_type": "stream",
          "text": [
            "(1601, 17) (1601, 1) (5274, 17) (5274, 1)\n"
          ],
          "name": "stdout"
        }
      ]
    },
    {
      "cell_type": "markdown",
      "metadata": {
        "id": "ldXfjw58f1qq"
      },
      "source": [
        "#For test dataset \\# 2 : Feb-Mar, converting the dataframes to numpy arrays"
      ]
    },
    {
      "cell_type": "code",
      "metadata": {
        "colab": {
          "base_uri": "https://localhost:8080/"
        },
        "id": "Pum8ZUPctrrY",
        "outputId": "4ec52daf-bb6e-46ee-be5a-08d12256bef0"
      },
      "source": [
        "# second set of test data: Feb-Mar\n",
        "test2_arr_x = test2_df.drop(columns=['Revenue']).values\n",
        "test2_arr_y = test2_df.Revenue.values.reshape((-1,1))\n",
        "print(train_arr_x.shape,train_arr_y.shape,test2_arr_x.shape,test2_arr_y.shape)"
      ],
      "execution_count": null,
      "outputs": [
        {
          "output_type": "stream",
          "text": [
            "(1601, 17) (1601, 1) (2091, 17) (2091, 1)\n"
          ],
          "name": "stdout"
        }
      ]
    },
    {
      "cell_type": "markdown",
      "metadata": {
        "id": "P3NgHlOmgHAO"
      },
      "source": [
        "# Label propogation for test dataset \\#1: Oct-Dec"
      ]
    },
    {
      "cell_type": "code",
      "metadata": {
        "id": "YhKyPNyw-WXg"
      },
      "source": [
        "# Label propogation for test dataset# 1"
      ],
      "execution_count": null,
      "outputs": []
    },
    {
      "cell_type": "code",
      "metadata": {
        "colab": {
          "base_uri": "https://localhost:8080/"
        },
        "id": "LusvJjYfqg2N",
        "outputId": "a37ad91f-aa67-4ad3-ce73-e15c4bebc256"
      },
      "source": [
        "rng = np.random.RandomState(2)\n",
        "indices = np.arange(len(train_arr_x))\n",
        "#Shuffling the elements \n",
        "rng.shuffle(indices)\n",
        "#combining the train and test inputs\n",
        "X_train_mixed = np.concatenate((train_arr_x[indices],test_arr_x[indices]))\n",
        "\n",
        "y_test_arr_nlab = test_arr_y[indices] # y_test which is going to be unlabeled\n",
        "no_label = np.full((len(indices),1),-1)\n",
        "#assigning -1 representing the unknown labels of test data\n",
        "y_test_arr_unlab = np.copy(no_label)\n",
        "#y_test_arr_unlab = np.concatenate((y_test_arr_nlab[0:1000],no_label)) #1000 are labeled, 1000 are unlabeled\n",
        "print(y_test_arr_nlab.shape, no_label.shape,y_test_arr_unlab.shape)\n",
        "#contains actual labels of train data + unlabeled test data\n",
        "y_train_mixed = np.concatenate((train_arr_y[indices],y_test_arr_unlab))\n",
        "#contains all actual labels (train+test)\n",
        "y_train_act_mixed = np.concatenate((train_arr_y[indices],test_arr_y[indices]))\n",
        "print(X_train_mixed.shape,y_train_mixed.shape,y_train_act_mixed.shape)\n",
        "X_test = np.copy(test_arr_x[indices])\n",
        "print(np.unique(y_test_arr_nlab))\n",
        "print(X_test.shape)"
      ],
      "execution_count": null,
      "outputs": [
        {
          "output_type": "stream",
          "text": [
            "(1601, 1) (1601, 1) (1601, 1)\n",
            "(3202, 17) (3202, 1) (3202, 1)\n",
            "[0 1]\n",
            "(1601, 17)\n"
          ],
          "name": "stdout"
        }
      ]
    },
    {
      "cell_type": "code",
      "metadata": {
        "colab": {
          "base_uri": "https://localhost:8080/"
        },
        "id": "me9glFVAsiEx",
        "outputId": "1864b485-1607-45d6-88b9-740d5c7eee19"
      },
      "source": [
        "print(test_arr_x.shape,test_arr_y.shape)"
      ],
      "execution_count": null,
      "outputs": [
        {
          "output_type": "stream",
          "text": [
            "(5274, 17) (5274, 1)\n"
          ],
          "name": "stdout"
        }
      ]
    },
    {
      "cell_type": "code",
      "metadata": {
        "id": "sA-LiVPnGmoN"
      },
      "source": [
        "from sklearn.semi_supervised import LabelSpreading\n",
        "from sklearn.linear_model import LogisticRegression\n",
        "from sklearn.preprocessing import MinMaxScaler\n",
        "from sklearn import metrics\n",
        "from sklearn.metrics import accuracy_score \n",
        "from sklearn.metrics import accuracy_score as accuracy\n",
        "from sklearn.metrics import recall_score as recall\n",
        "from sklearn.metrics import precision_score as precision\n",
        "from sklearn.metrics import f1_score\n",
        "from sklearn.metrics import roc_curve\n",
        "from sklearn.metrics import plot_confusion_matrix, plot_precision_recall_curve, plot_roc_curve"
      ],
      "execution_count": null,
      "outputs": []
    },
    {
      "cell_type": "markdown",
      "metadata": {
        "id": "7bv0fi_e-_X2"
      },
      "source": [
        "#Self-labeling using 'LabelSpreading' and fitting Logistic Regression classifier with test dataset \\# 1 from Oct-Dec using the estimated labels for Oct-Dec months."
      ]
    },
    {
      "cell_type": "code",
      "metadata": {
        "colab": {
          "base_uri": "https://localhost:8080/",
          "height": 653
        },
        "id": "LUoicBkuqk_o",
        "outputId": "b12fc047-1cb8-4525-da93-8b545a677159"
      },
      "source": [
        "\n",
        "#Label propogation\n",
        "model = LabelSpreading()\n",
        "model.fit(X_train_mixed,y_train_mixed)\n",
        "#Obtaining the labels\n",
        "tran_labels = model.transduction_\n",
        "#Scaling the datasets\n",
        "scaler = MinMaxScaler()\n",
        "X_train_scale = scaler.fit_transform(X_train_mixed)\n",
        "X_test_scale = scaler.fit_transform(X_test)\n",
        "#Scaling the entire test data set\n",
        "X_test_full_scale = scaler.fit_transform(test_arr_x)\n",
        "#Fitting Classifier using the estimated labeled data \n",
        "model2 = LogisticRegression()\n",
        "lr_lab_fit = model2.fit(X_train_scale,tran_labels)\n",
        "yhat = lr_lab_fit.predict(X_test_scale)\n",
        "score = accuracy_score(y_test_arr_nlab,yhat)\n",
        "print(\"Prediction Score with limited test data=\",score)\n",
        "print(\"Result\")\n",
        "#Prediction For the entire test dataset (with the model fitted with 1601 elements as above w.r.t train data set size)\n",
        "yhat_full = lr_lab_fit.predict(X_test_full_scale)\n",
        "score_full = accuracy_score(test_arr_y,yhat_full)\n",
        "print(\"Prediction score of the classifier=\", score_full)\n",
        "print(\"Confusion Matrix=\\n\", confusion_matrix(test_arr_y,yhat_full))\n",
        "print(\"Classification Report=\\n\", classification_report(test_arr_y,yhat_full))\n",
        "disp = plot_confusion_matrix(lr_lab_fit,X_test_full_scale,test_arr_y)\n",
        "print(disp.confusion_matrix)\n",
        "\n"
      ],
      "execution_count": null,
      "outputs": [
        {
          "output_type": "stream",
          "text": [
            "/usr/local/lib/python3.7/dist-packages/sklearn/utils/validation.py:760: DataConversionWarning: A column-vector y was passed when a 1d array was expected. Please change the shape of y to (n_samples, ), for example using ravel().\n",
            "  y = column_or_1d(y, warn=True)\n",
            "/usr/local/lib/python3.7/dist-packages/sklearn/semi_supervised/_label_propagation.py:293: RuntimeWarning: invalid value encountered in true_divide\n",
            "  self.label_distributions_ /= normalizer\n"
          ],
          "name": "stderr"
        },
        {
          "output_type": "stream",
          "text": [
            "Prediction Score with limited test data= 0.7920049968769519\n",
            "Result\n",
            "Prediction score of the classifier= 0.7974971558589306\n",
            "Confusion Matrix=\n",
            " [[4181    2]\n",
            " [1066   25]]\n",
            "Classification Report=\n",
            "               precision    recall  f1-score   support\n",
            "\n",
            "           0       0.80      1.00      0.89      4183\n",
            "           1       0.93      0.02      0.04      1091\n",
            "\n",
            "    accuracy                           0.80      5274\n",
            "   macro avg       0.86      0.51      0.47      5274\n",
            "weighted avg       0.82      0.80      0.71      5274\n",
            "\n",
            "[[4181    2]\n",
            " [1066   25]]\n"
          ],
          "name": "stdout"
        },
        {
          "output_type": "display_data",
          "data": {
            "image/png": "[encoded data removed]",
            "text/plain": [
              "<Figure size 432x288 with 2 Axes>"
            ]
          },
          "metadata": {
            "tags": [],
            "needs_background": "light"
          }
        }
      ]
    },
    {
      "cell_type": "code",
      "metadata": {
        "colab": {
          "base_uri": "https://localhost:8080/"
        },
        "id": "OMv1u5xqKdcW",
        "outputId": "46bb5cce-bd60-4a80-82c0-03df21079e7f"
      },
      "source": [
        "print(X_train_scale.shape,train_arr_y.shape)"
      ],
      "execution_count": null,
      "outputs": [
        {
          "output_type": "stream",
          "text": [
            "(3202, 17) (1601, 1)\n"
          ],
          "name": "stdout"
        }
      ]
    },
    {
      "cell_type": "code",
      "metadata": {
        "colab": {
          "base_uri": "https://localhost:8080/",
          "height": 325
        },
        "id": "5bgaLOBqYNnB",
        "outputId": "9b995f52-0a75-44f5-b794-bfd44cbbc7c1"
      },
      "source": [
        "probs = lr_lab_fit.predict_proba(X_test_full_scale)\n",
        "preds_lr_lab_fit = probs[:,1]\n",
        "\n",
        "fpr, tpr, threshold = metrics.roc_curve(test_arr_y, preds_lr_lab_fit)\n",
        "roc_auc = metrics.auc(fpr, tpr)\n",
        "\n",
        "plt.figure()\n",
        "plt.plot(fpr, tpr, label=' Logistic Regression for testdata from months Oct-Dec using estimated labels (area = %0.2f)' % roc_auc)\n",
        "plt.plot([0, 1], [0, 1],'r--')\n",
        "plt.xlim([0.0, 1.0])\n",
        "plt.ylim([0.0, 1.05])\n",
        "plt.xlabel('False Positive Rate')\n",
        "plt.ylabel('True Positive Rate')\n",
        "plt.title('Receiver operating characteristic')\n",
        "plt.legend(loc=\"lower center\",bbox_to_anchor=(0.5,-0.3),ncol=2)\n",
        "plt.savefig('Log_ROC')\n",
        "plt.show()"
      ],
      "execution_count": null,
      "outputs": [
        {
          "output_type": "display_data",
          "data": {
            "image/png": "[encoded data removed]",
            "text/plain": [
              "<Figure size 432x288 with 1 Axes>"
            ]
          },
          "metadata": {
            "tags": [],
            "needs_background": "light"
          }
        }
      ]
    },
    {
      "cell_type": "markdown",
      "metadata": {
        "id": "JughR5PVQmrK"
      },
      "source": [
        "#Fitting Classifier using actual labels of test data from Oct-Dec"
      ]
    },
    {
      "cell_type": "code",
      "metadata": {
        "colab": {
          "base_uri": "https://localhost:8080/",
          "height": 619
        },
        "id": "71ptCPICJKRM",
        "outputId": "c52921c1-4868-48bb-a08a-ff5bdd130b1d"
      },
      "source": [
        "#Fitting Classifier using the actual labeled data \n",
        "model3 = LogisticRegression()\n",
        "lr_act_fit = model3.fit(X_train_scale, y_train_act_mixed)\n",
        "yhat_act = lr_act_fit.predict(X_test_scale)\n",
        "score_act = accuracy_score(y_test_arr_nlab,yhat_act)\n",
        "print(\"Prediction Score with limited test data and actual labels=\",score_act)\n",
        "print(\"Result\")\n",
        "#Prediction For the entire test dataset (with the model fitted with 1601 elements as above w.r.t train data set size)\n",
        "yhat_act_full = lr_act_fit.predict(X_test_full_scale)\n",
        "score_act_full = accuracy_score(test_arr_y,yhat_act_full)\n",
        "print(\"Prediction score of the classifier with actual labels=\", score_act_full)\n",
        "print(\"Confusion Matrix=\\n\", confusion_matrix(test_arr_y,yhat_act_full))\n",
        "print(\"Classification Report=\\n\", classification_report(test_arr_y,yhat_act_full))\n",
        "disp = plot_confusion_matrix(lr_act_fit,X_test_full_scale,test_arr_y)\n",
        "print(disp.confusion_matrix)"
      ],
      "execution_count": null,
      "outputs": [
        {
          "output_type": "stream",
          "text": [
            "/usr/local/lib/python3.7/dist-packages/sklearn/utils/validation.py:760: DataConversionWarning: A column-vector y was passed when a 1d array was expected. Please change the shape of y to (n_samples, ), for example using ravel().\n",
            "  y = column_or_1d(y, warn=True)\n"
          ],
          "name": "stderr"
        },
        {
          "output_type": "stream",
          "text": [
            "Prediction Score with limited test data and actual labels= 0.8144909431605247\n",
            "Result\n",
            "Prediction score of the classifier with actual labels= 0.8196814562002275\n",
            "Confusion Matrix=\n",
            " [[4138   45]\n",
            " [ 906  185]]\n",
            "Classification Report=\n",
            "               precision    recall  f1-score   support\n",
            "\n",
            "           0       0.82      0.99      0.90      4183\n",
            "           1       0.80      0.17      0.28      1091\n",
            "\n",
            "    accuracy                           0.82      5274\n",
            "   macro avg       0.81      0.58      0.59      5274\n",
            "weighted avg       0.82      0.82      0.77      5274\n",
            "\n",
            "[[4138   45]\n",
            " [ 906  185]]\n"
          ],
          "name": "stdout"
        },
        {
          "output_type": "display_data",
          "data": {
            "image/png": "[encoded data removed]",
            "text/plain": [
              "<Figure size 432x288 with 2 Axes>"
            ]
          },
          "metadata": {
            "tags": [],
            "needs_background": "light"
          }
        }
      ]
    },
    {
      "cell_type": "code",
      "metadata": {
        "colab": {
          "base_uri": "https://localhost:8080/",
          "height": 325
        },
        "id": "jgrRn9OpHu7w",
        "outputId": "56387e5a-37ae-40f7-c0a5-ac31a278aba7"
      },
      "source": [
        "probs = lr_act_fit.predict_proba(X_test_full_scale)\n",
        "preds_lr_act_fit = probs[:,1]\n",
        "\n",
        "fpr, tpr, threshold = metrics.roc_curve(test_arr_y, preds_lr_act_fit)\n",
        "roc_auc_act = metrics.auc(fpr, tpr)\n",
        "\n",
        "plt.figure()\n",
        "plt.plot(fpr, tpr, label=' Logistic Regression for testdata from months Oct-Dec using actual labels (area = %0.2f)' % roc_auc_act)\n",
        "plt.plot([0, 1], [0, 1],'r--')\n",
        "plt.xlim([0.0, 1.0])\n",
        "plt.ylim([0.0, 1.05])\n",
        "plt.xlabel('False Positive Rate')\n",
        "plt.ylabel('True Positive Rate')\n",
        "plt.title('Receiver operating characteristic')\n",
        "plt.legend(loc=\"lower center\",bbox_to_anchor=(0.5,-0.3),ncol=2)\n",
        "plt.savefig('Log_ROC')\n",
        "plt.show()"
      ],
      "execution_count": null,
      "outputs": [
        {
          "output_type": "display_data",
          "data": {
            "image/png": "[encoded data removed]",
            "text/plain": [
              "<Figure size 432x288 with 1 Axes>"
            ]
          },
          "metadata": {
            "tags": [],
            "needs_background": "light"
          }
        }
      ]
    },
    {
      "cell_type": "markdown",
      "metadata": {
        "id": "BvEsi4H2SarN"
      },
      "source": [
        "#Report classification performance on Feb-March data set with and without the self-labelled data."
      ]
    },
    {
      "cell_type": "markdown",
      "metadata": {
        "id": "rXV1zdjBR__H"
      },
      "source": [
        "#Label Spreading (Semi-Supervised)"
      ]
    },
    {
      "cell_type": "markdown",
      "metadata": {
        "id": "UyxB-55USID-"
      },
      "source": [
        "#For test dataset \\# 2 : Feb-Mar"
      ]
    },
    {
      "cell_type": "code",
      "metadata": {
        "id": "yIOcHZRCs4Jw"
      },
      "source": [
        "# Label propogation for test dataset# 2"
      ],
      "execution_count": null,
      "outputs": []
    },
    {
      "cell_type": "code",
      "metadata": {
        "colab": {
          "base_uri": "https://localhost:8080/"
        },
        "id": "52hV2o0HC-0r",
        "outputId": "ae0b7c2b-705f-4bbb-e3c8-1cb9b4e61bf8"
      },
      "source": [
        "rng = np.random.RandomState(2)\n",
        "indices = np.arange(len(train_arr_x))\n",
        "#Shuffling the elements \n",
        "rng.shuffle(indices)\n",
        "X_train_mixed = np.concatenate((train_arr_x[indices],test2_arr_x[indices]))\n",
        "\n",
        "y_test2_arr_nlab = test2_arr_y[indices] # y_test which is going to be unlabeled\n",
        "no_label = np.full((len(indices),1),-1)\n",
        "y_test2_arr_unlab = np.copy(no_label)\n",
        "#y_test_arr_unlab = np.concatenate((y_test_arr_nlab[0:1000],no_label)) #1000 are labeled, 1000 are unlabeled\n",
        "print(y_test2_arr_nlab.shape, no_label.shape,y_test2_arr_unlab.shape)\n",
        "\n",
        "y_train_mixed = np.concatenate((train_arr_y[indices],y_test2_arr_unlab))\n",
        "#contains all actual labels\n",
        "y_train_act_mixed = np.concatenate((train_arr_y[indices],test2_arr_y[indices]))\n",
        "print(X_train_mixed.shape,y_train_mixed.shape)\n",
        "X_test2 = np.copy(test2_arr_x[indices])\n",
        "print(np.unique(y_test2_arr_nlab))\n",
        "print(X_test2.shape)"
      ],
      "execution_count": null,
      "outputs": [
        {
          "output_type": "stream",
          "text": [
            "(1601, 1) (1601, 1) (1601, 1)\n",
            "(3202, 17) (3202, 1)\n",
            "[0 1]\n",
            "(1601, 17)\n"
          ],
          "name": "stdout"
        }
      ]
    },
    {
      "cell_type": "code",
      "metadata": {
        "id": "kHLse6sHMbVR"
      },
      "source": [
        ""
      ],
      "execution_count": null,
      "outputs": []
    },
    {
      "cell_type": "markdown",
      "metadata": {
        "id": "HQA51MeBDgml"
      },
      "source": [
        "#Label propogation and fitting classifier with test dataset \\# 2 from Feb-Mar"
      ]
    },
    {
      "cell_type": "code",
      "metadata": {
        "colab": {
          "base_uri": "https://localhost:8080/",
          "height": 670
        },
        "id": "Vngw2SYRDgmn",
        "outputId": "faa0b0fb-a1f5-40a8-da6f-2ceffbf8f881"
      },
      "source": [
        "#Label propogation\n",
        "model4 = LabelSpreading()\n",
        "model4.fit(X_train_mixed,y_train_mixed)\n",
        "#Obtaining the labels\n",
        "tran_labels = model4.transduction_\n",
        "#Scaling the datasets\n",
        "scaler = MinMaxScaler()\n",
        "X_train_scale = scaler.fit_transform(X_train_mixed)\n",
        "X_test2_scale = scaler.fit_transform(X_test2)\n",
        "#Scaling the entire test data set\n",
        "X_test2_full_scale = scaler.fit_transform(test2_arr_x)\n",
        "#Fitting Classifier\n",
        "model5 = LogisticRegression()\n",
        "lr_lab_fit2 = model5.fit(X_train_scale,tran_labels)\n",
        "yhat2 = lr_lab_fit2.predict(X_test2_scale)\n",
        "score2 = accuracy_score(y_test2_arr_nlab,yhat2)\n",
        "print(\"Prediction Score with limited test data set # 2=\",score2)\n",
        "print(\"Result\")\n",
        "#Prediction For the entire test dataset # 2 (with the model fitted with 1601 elements as above w.r.t train data set size)\n",
        "yhat2_full = lr_lab_fit2.predict(X_test2_full_scale)\n",
        "score2_full = accuracy_score(test2_arr_y,yhat2_full)\n",
        "print(\"Prediction score of the classifier=\", score2_full)\n",
        "print(\"Confusion Matrix=\\n\", confusion_matrix(test2_arr_y,yhat2_full))\n",
        "print(\"Classification Report=\\n\", classification_report(test2_arr_y,yhat2_full))\n",
        "disp2 = plot_confusion_matrix(lr_lab_fit2,X_test2_full_scale,test2_arr_y)\n",
        "print(disp2.confusion_matrix)\n",
        "acc   = accuracy(test2_arr_y, yhat2_full)\n",
        "rec   = recall(test2_arr_y, yhat2_full)\n",
        "prec  = precision(test2_arr_y, yhat2_full)\n",
        "f1    = f1_score(test2_arr_y, yhat2_full)\n",
        "print(f'Accuracy = {acc}, Precision = {prec}, Recall = {rec}, F1-score = {f1}')\n"
      ],
      "execution_count": null,
      "outputs": [
        {
          "output_type": "stream",
          "text": [
            "/usr/local/lib/python3.7/dist-packages/sklearn/utils/validation.py:760: DataConversionWarning: A column-vector y was passed when a 1d array was expected. Please change the shape of y to (n_samples, ), for example using ravel().\n",
            "  y = column_or_1d(y, warn=True)\n",
            "/usr/local/lib/python3.7/dist-packages/sklearn/semi_supervised/_label_propagation.py:293: RuntimeWarning: invalid value encountered in true_divide\n",
            "  self.label_distributions_ /= normalizer\n"
          ],
          "name": "stderr"
        },
        {
          "output_type": "stream",
          "text": [
            "Prediction Score with limited test data set # 2= 0.9331667707682698\n",
            "Result\n",
            "Prediction score of the classifier= 0.9273075083692014\n",
            "Confusion Matrix=\n",
            " [[1891    5]\n",
            " [ 147   48]]\n",
            "Classification Report=\n",
            "               precision    recall  f1-score   support\n",
            "\n",
            "           0       0.93      1.00      0.96      1896\n",
            "           1       0.91      0.25      0.39       195\n",
            "\n",
            "    accuracy                           0.93      2091\n",
            "   macro avg       0.92      0.62      0.67      2091\n",
            "weighted avg       0.93      0.93      0.91      2091\n",
            "\n",
            "[[1891    5]\n",
            " [ 147   48]]\n",
            "Accuracy = 0.9273075083692014, Precision = 0.9056603773584906, Recall = 0.24615384615384617, F1-score = 0.3870967741935484\n"
          ],
          "name": "stdout"
        },
        {
          "output_type": "display_data",
          "data": {
            "image/png": "[encoded data removed]",
            "text/plain": [
              "<Figure size 432x288 with 2 Axes>"
            ]
          },
          "metadata": {
            "tags": [],
            "needs_background": "light"
          }
        }
      ]
    },
    {
      "cell_type": "code",
      "metadata": {
        "colab": {
          "base_uri": "https://localhost:8080/"
        },
        "id": "AowDOTvxDgmf",
        "outputId": "26c8971a-e71b-4336-b38e-5abc164b1fc5"
      },
      "source": [
        "print(X_train_scale.shape,test2_arr_y.shape)"
      ],
      "execution_count": null,
      "outputs": [
        {
          "output_type": "stream",
          "text": [
            "(3202, 17) (2091, 1)\n"
          ],
          "name": "stdout"
        }
      ]
    },
    {
      "cell_type": "code",
      "metadata": {
        "colab": {
          "base_uri": "https://localhost:8080/",
          "height": 325
        },
        "id": "HhtF7ZucFKgA",
        "outputId": "1ff0ab0d-a59f-438d-a0c6-9bbf42c74db7"
      },
      "source": [
        "probs = lr_lab_fit2.predict_proba(X_test2_full_scale)\n",
        "preds_lr_lab_fit2 = probs[:,1]\n",
        "\n",
        "fpr, tpr, threshold = metrics.roc_curve(test2_arr_y, preds_lr_lab_fit2)\n",
        "roc_auc2 = metrics.auc(fpr, tpr)\n",
        "\n",
        "plt.figure()\n",
        "plt.plot(fpr, tpr, label=' Logistic Regression for testdata from months Feb-Mar with self-labels(area = %0.2f)' % roc_auc2)\n",
        "plt.plot([0, 1], [0, 1],'r--')\n",
        "plt.xlim([0.0, 1.0])\n",
        "plt.ylim([0.0, 1.05])\n",
        "plt.xlabel('False Positive Rate')\n",
        "plt.ylabel('True Positive Rate')\n",
        "plt.title('Receiver operating characteristic')\n",
        "plt.legend(loc=\"lower center\",bbox_to_anchor=(0.5,-0.3),ncol=2)\n",
        "plt.savefig('Log_ROC')\n",
        "plt.show()"
      ],
      "execution_count": null,
      "outputs": [
        {
          "output_type": "display_data",
          "data": {
            "image/png": "[encoded data removed]",
            "text/plain": [
              "<Figure size 432x288 with 1 Axes>"
            ]
          },
          "metadata": {
            "tags": [],
            "needs_background": "light"
          }
        }
      ]
    },
    {
      "cell_type": "code",
      "metadata": {
        "id": "JdgB3sfcGZV4"
      },
      "source": [
        ""
      ],
      "execution_count": null,
      "outputs": []
    },
    {
      "cell_type": "markdown",
      "metadata": {
        "id": "22zMjIP8TcKX"
      },
      "source": [
        "#Fitting Classifier using actual labels of test data from Feb-Mar"
      ]
    },
    {
      "cell_type": "code",
      "metadata": {
        "colab": {
          "base_uri": "https://localhost:8080/",
          "height": 619
        },
        "id": "bUmnsg5aTcKp",
        "outputId": "5b4082e7-c148-4a22-ccd9-833e141cec82"
      },
      "source": [
        "#Fitting Classifier using the actual labeled data \n",
        "model6 = LogisticRegression()\n",
        "lr_act_fit2 = model6.fit(X_train_scale, y_train_act_mixed)\n",
        "yhat2_act = lr_act_fit2.predict(X_test2_scale)\n",
        "score2_act = accuracy_score(y_test2_arr_nlab,yhat2_act)\n",
        "print(\"Prediction Score with limited test data and actual labels=\",score2_act)\n",
        "print(\"Result\")\n",
        "#Prediction For the entire test dataset (with the model fitted with 1601 elements as above w.r.t train data set size)\n",
        "yhat2_act_full = lr_act_fit2.predict(X_test2_full_scale)\n",
        "score2_act_full = accuracy_score(test2_arr_y,yhat2_act_full)\n",
        "print(\"Prediction score of the classifier with actual labels=\", score2_act_full)\n",
        "print(\"Confusion Matrix=\\n\", confusion_matrix(test2_arr_y,yhat2_act_full))\n",
        "print(\"Classification Report=\\n\", classification_report(test2_arr_y,yhat2_act_full))\n",
        "disp = plot_confusion_matrix(lr_act_fit2,X_test2_full_scale,test2_arr_y)\n",
        "print(disp.confusion_matrix)"
      ],
      "execution_count": null,
      "outputs": [
        {
          "output_type": "stream",
          "text": [
            "/usr/local/lib/python3.7/dist-packages/sklearn/utils/validation.py:760: DataConversionWarning: A column-vector y was passed when a 1d array was expected. Please change the shape of y to (n_samples, ), for example using ravel().\n",
            "  y = column_or_1d(y, warn=True)\n"
          ],
          "name": "stderr"
        },
        {
          "output_type": "stream",
          "text": [
            "Prediction Score with limited test data and actual labels= 0.9375390381011868\n",
            "Result\n",
            "Prediction score of the classifier with actual labels= 0.9301769488283118\n",
            "Confusion Matrix=\n",
            " [[1881   15]\n",
            " [ 131   64]]\n",
            "Classification Report=\n",
            "               precision    recall  f1-score   support\n",
            "\n",
            "           0       0.93      0.99      0.96      1896\n",
            "           1       0.81      0.33      0.47       195\n",
            "\n",
            "    accuracy                           0.93      2091\n",
            "   macro avg       0.87      0.66      0.71      2091\n",
            "weighted avg       0.92      0.93      0.92      2091\n",
            "\n",
            "[[1881   15]\n",
            " [ 131   64]]\n"
          ],
          "name": "stdout"
        },
        {
          "output_type": "display_data",
          "data": {
            "image/png": "[encoded data removed]",
            "text/plain": [
              "<Figure size 432x288 with 2 Axes>"
            ]
          },
          "metadata": {
            "tags": [],
            "needs_background": "light"
          }
        }
      ]
    },
    {
      "cell_type": "code",
      "metadata": {
        "id": "k5_F9ViAUYBJ"
      },
      "source": [
        ""
      ],
      "execution_count": null,
      "outputs": []
    },
    {
      "cell_type": "code",
      "metadata": {
        "colab": {
          "base_uri": "https://localhost:8080/",
          "height": 325
        },
        "id": "2G6XJkvwUYbS",
        "outputId": "3d7dc95e-f6fb-4259-f0c1-b715b94cbebb"
      },
      "source": [
        "probs = lr_act_fit2.predict_proba(X_test2_full_scale)\n",
        "preds_lr_act_fit2 = probs[:,1]\n",
        "\n",
        "fpr, tpr, threshold = metrics.roc_curve(test2_arr_y, preds_lr_act_fit2)\n",
        "roc_auc2_act = metrics.auc(fpr, tpr)\n",
        "\n",
        "plt.figure()\n",
        "plt.plot(fpr, tpr, label=' Logistic Regression for testdata from months Feb-Mar with actual labels (area = %0.2f)' % roc_auc2_act)\n",
        "plt.plot([0, 1], [0, 1],'r--')\n",
        "plt.xlim([0.0, 1.0])\n",
        "plt.ylim([0.0, 1.05])\n",
        "plt.xlabel('False Positive Rate')\n",
        "plt.ylabel('True Positive Rate')\n",
        "plt.title('Receiver operating characteristic')\n",
        "plt.legend(loc=\"lower center\",bbox_to_anchor=(0.5,-0.3),ncol=2)\n",
        "plt.savefig('Log_ROC')\n",
        "plt.show()"
      ],
      "execution_count": null,
      "outputs": [
        {
          "output_type": "display_data",
          "data": {
            "image/png": "[encoded data removed]",
            "text/plain": [
              "<Figure size 432x288 with 1 Axes>"
            ]
          },
          "metadata": {
            "tags": [],
            "needs_background": "light"
          }
        }
      ]
    },
    {
      "cell_type": "markdown",
      "metadata": {
        "id": "N8SRE3nAacZm"
      },
      "source": [
        "#Results"
      ]
    },
    {
      "cell_type": "markdown",
      "metadata": {
        "id": "iXSxTtnMVGg_"
      },
      "source": [
        "#Classification peformance on Feb-March dataset with self-labelled data and without self-labelled data i.e. with actual labels\n"
      ]
    },
    {
      "cell_type": "code",
      "metadata": {
        "colab": {
          "base_uri": "https://localhost:8080/",
          "height": 221
        },
        "id": "BbQ6NAR-VQXk",
        "outputId": "818d4c1d-74eb-4f86-8e38-0fc871c062d0"
      },
      "source": [
        "data = {\n",
        "    'accuracy': [accuracy(test2_arr_y, yhat2_full),accuracy(test2_arr_y, yhat2_act_full) ],\n",
        "    'precision': [precision(test2_arr_y, yhat2_full),precision(test2_arr_y, yhat2_act_full) ],\n",
        "    'recall': [ recall(test2_arr_y, yhat2_full), recall(test2_arr_y, yhat2_act_full)],\n",
        "    'f1 score': [f1_score(test2_arr_y, yhat2_full),f1_score(test2_arr_y, yhat2_act_full) ],\n",
        "    'roc_auc': [roc_auc2,roc_auc2_act]\n",
        "}\n",
        "\n",
        "print(\"Results: Feb-March dataset with vs without self-labels i.e.actual labels\")\n",
        "pd.DataFrame.from_dict(data, orient='index', columns=['self-labeled','actual labels'])"
      ],
      "execution_count": null,
      "outputs": [
        {
          "output_type": "stream",
          "text": [
            "Results: Feb-March dataset with vs without self-labels i.e.actual labels\n"
          ],
          "name": "stdout"
        },
        {
          "output_type": "execute_result",
          "data": {
            "text/html": [
              "<div>\n",
              "<style scoped>\n",
              "    .dataframe tbody tr th:only-of-type {\n",
              "        vertical-align: middle;\n",
              "    }\n",
              "\n",
              "    .dataframe tbody tr th {\n",
              "        vertical-align: top;\n",
              "    }\n",
              "\n",
              "    .dataframe thead th {\n",
              "        text-align: right;\n",
              "    }\n",
              "</style>\n",
              "<table border=\"1\" class=\"dataframe\">\n",
              "  <thead>\n",
              "    <tr style=\"text-align: right;\">\n",
              "      <th></th>\n",
              "      <th>self-labeled</th>\n",
              "      <th>actual labels</th>\n",
              "    </tr>\n",
              "  </thead>\n",
              "  <tbody>\n",
              "    <tr>\n",
              "      <th>accuracy</th>\n",
              "      <td>0.927308</td>\n",
              "      <td>0.930177</td>\n",
              "    </tr>\n",
              "    <tr>\n",
              "      <th>precision</th>\n",
              "      <td>0.905660</td>\n",
              "      <td>0.810127</td>\n",
              "    </tr>\n",
              "    <tr>\n",
              "      <th>recall</th>\n",
              "      <td>0.246154</td>\n",
              "      <td>0.328205</td>\n",
              "    </tr>\n",
              "    <tr>\n",
              "      <th>f1 score</th>\n",
              "      <td>0.387097</td>\n",
              "      <td>0.467153</td>\n",
              "    </tr>\n",
              "    <tr>\n",
              "      <th>roc_auc</th>\n",
              "      <td>0.878062</td>\n",
              "      <td>0.929750</td>\n",
              "    </tr>\n",
              "  </tbody>\n",
              "</table>\n",
              "</div>"
            ],
            "text/plain": [
              "           self-labeled  actual labels\n",
              "accuracy       0.927308       0.930177\n",
              "precision      0.905660       0.810127\n",
              "recall         0.246154       0.328205\n",
              "f1 score       0.387097       0.467153\n",
              "roc_auc        0.878062       0.929750"
            ]
          },
          "metadata": {
            "tags": []
          },
          "execution_count": 390
        }
      ]
    },
    {
      "cell_type": "markdown",
      "metadata": {
        "id": "cr5E0zP1kh7c"
      },
      "source": [
        "#The classification performance on Feb-March data set with self-labeling is not worse compared to without self-labeling i.e. with self-labels, the roc_auc score is 87% whereas with actual labels it is 93% => the classifier performs reasonably well and is only 5 % worse with self-labeled data."
      ]
    },
    {
      "cell_type": "markdown",
      "metadata": {
        "id": "0heKlfhFXikC"
      },
      "source": [
        "#Classification peformance on Oct-Dec dataset with self-labelled data and without self-labelled data i.e. with actual labels"
      ]
    },
    {
      "cell_type": "code",
      "metadata": {
        "colab": {
          "base_uri": "https://localhost:8080/",
          "height": 221
        },
        "id": "cfbIidLGXfy2",
        "outputId": "207e50bb-c5f4-4094-bd8d-b7f84f3f1c71"
      },
      "source": [
        "data = {\n",
        "    'accuracy': [accuracy(test_arr_y, yhat_full),accuracy(test_arr_y, yhat_act_full) ],\n",
        "    'precision': [precision(test_arr_y, yhat_full),precision(test_arr_y, yhat_act_full) ],\n",
        "    'recall': [ recall(test_arr_y, yhat_full), recall(test_arr_y, yhat_act_full)],\n",
        "    'f1 score': [f1_score(test_arr_y, yhat_full),f1_score(test_arr_y, yhat_act_full) ],\n",
        "    'roc_auc': [roc_auc,roc_auc_act]\n",
        "}\n",
        "\n",
        "print(\"Results: Oct-Dec dataset with vs without self-labels i.e.actual labels\")\n",
        "pd.DataFrame.from_dict(data, orient='index', columns=['self-labeled','actual labels'])"
      ],
      "execution_count": null,
      "outputs": [
        {
          "output_type": "stream",
          "text": [
            "Results: Oct-Dec dataset with vs without self-labels i.e.actual labels\n"
          ],
          "name": "stdout"
        },
        {
          "output_type": "execute_result",
          "data": {
            "text/html": [
              "<div>\n",
              "<style scoped>\n",
              "    .dataframe tbody tr th:only-of-type {\n",
              "        vertical-align: middle;\n",
              "    }\n",
              "\n",
              "    .dataframe tbody tr th {\n",
              "        vertical-align: top;\n",
              "    }\n",
              "\n",
              "    .dataframe thead th {\n",
              "        text-align: right;\n",
              "    }\n",
              "</style>\n",
              "<table border=\"1\" class=\"dataframe\">\n",
              "  <thead>\n",
              "    <tr style=\"text-align: right;\">\n",
              "      <th></th>\n",
              "      <th>self-labeled</th>\n",
              "      <th>actual labels</th>\n",
              "    </tr>\n",
              "  </thead>\n",
              "  <tbody>\n",
              "    <tr>\n",
              "      <th>accuracy</th>\n",
              "      <td>0.797497</td>\n",
              "      <td>0.819681</td>\n",
              "    </tr>\n",
              "    <tr>\n",
              "      <th>precision</th>\n",
              "      <td>0.925926</td>\n",
              "      <td>0.804348</td>\n",
              "    </tr>\n",
              "    <tr>\n",
              "      <th>recall</th>\n",
              "      <td>0.022915</td>\n",
              "      <td>0.169569</td>\n",
              "    </tr>\n",
              "    <tr>\n",
              "      <th>f1 score</th>\n",
              "      <td>0.044723</td>\n",
              "      <td>0.280091</td>\n",
              "    </tr>\n",
              "    <tr>\n",
              "      <th>roc_auc</th>\n",
              "      <td>0.697132</td>\n",
              "      <td>0.802893</td>\n",
              "    </tr>\n",
              "  </tbody>\n",
              "</table>\n",
              "</div>"
            ],
            "text/plain": [
              "           self-labeled  actual labels\n",
              "accuracy       0.797497       0.819681\n",
              "precision      0.925926       0.804348\n",
              "recall         0.022915       0.169569\n",
              "f1 score       0.044723       0.280091\n",
              "roc_auc        0.697132       0.802893"
            ]
          },
          "metadata": {
            "tags": []
          },
          "execution_count": 391
        }
      ]
    },
    {
      "cell_type": "markdown",
      "metadata": {
        "id": "VJLUDTybnL0y"
      },
      "source": [
        "#The classification performance on Oct-Dec test data set with self-labeling is worse compared to without self-labeling i.e. with self-labels, the roc_auc score is 69.7% whereas with actual labels it is 80% => the classifier with self-labels performs not that well but then with actual labels the classifier doesn't peform exceedingly as well. "
      ]
    },
    {
      "cell_type": "code",
      "metadata": {
        "id": "_tzXnYBXnqxx"
      },
      "source": [
        ""
      ],
      "execution_count": null,
      "outputs": []
    }
  ]
}