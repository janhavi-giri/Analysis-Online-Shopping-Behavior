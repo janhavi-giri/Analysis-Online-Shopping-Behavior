{
  "nbformat": 4,
  "nbformat_minor": 0,
  "metadata": {
    "colab": {
      "name": "SimCLR_model_load_v1.ipynb",
      "provenance": [],
      "collapsed_sections": [],
      "machine_shape": "hm",
      "authorship_tag": "ABX9TyOW+eDHQlbb03dR3wUTr5S3",
      "include_colab_link": true
    },
    "kernelspec": {
      "name": "python3",
      "display_name": "Python 3"
    },
    "language_info": {
      "name": "python"
    },
    "accelerator": "GPU"
  },
  "cells": [
    {
      "cell_type": "markdown",
      "metadata": {
        "id": "view-in-github",
        "colab_type": "text"
      },
      "source": [
        "<a href=\"https://colab.research.google.com/github/janhavi-giri/Analysis-Online-Shopping-Behavior/blob/main/SimCLR_model_load_v1.ipynb\" target=\"_parent\"><img src=\"https://colab.research.google.com/assets/colab-badge.svg\" alt=\"Open In Colab\"/></a>"
      ]
    },
    {
      "cell_type": "code",
      "metadata": {
        "colab": {
          "base_uri": "https://localhost:8080/"
        },
        "id": "mCrTft4RKKGT",
        "outputId": "143284f6-e456-41c2-cb33-79e595342e58"
      },
      "source": [
        "from google.colab import drive\n",
        "drive.mount('/content/drive', force_remount=True)\n",
        "import os\n",
        "os.chdir('/content/drive/MyDrive/Colab Notebooks/Samsung-OCT-Project-Work/')\n",
        "pwd = os.getcwd()\n",
        "print(pwd)"
      ],
      "execution_count": null,
      "outputs": [
        {
          "output_type": "stream",
          "text": [
            "Mounted at /content/drive\n",
            "/content/drive/My Drive/Colab Notebooks/Samsung-OCT-Project-Work\n"
          ],
          "name": "stdout"
        }
      ]
    },
    {
      "cell_type": "code",
      "metadata": {
        "colab": {
          "base_uri": "https://localhost:8080/"
        },
        "id": "aoDSzkHxAy85",
        "outputId": "a9155e25-2462-4ea8-ba62-2b9917b0bec9"
      },
      "source": [
        "os.chdir('/content/drive/MyDrive/Colab Notebooks/simclr_tf_keras_07022021/oct_run/50per_train_data/SimCLRv1-keras-tensorflow')\n",
        "%ls\n"
      ],
      "execution_count": null,
      "outputs": [
        {
          "output_type": "stream",
          "text": [
            "0_illustration_SoftmaxCosineSim.ipynb  model.png\n",
            "1_data_processing_trashnet.ipynb       \u001b[0m\u001b[01;34mmodels\u001b[0m/\n",
            "2_model_SimCLR.ipynb                   oct_resize_image.ipynb\n",
            "Classifier.py                          \u001b[01;34m__pycache__\u001b[0m/\n",
            "\u001b[01;34mcontent\u001b[0m/                               README.md\n",
            "DataGeneratorClass.py                  requirements.txt\n",
            "DataGeneratorSimCLR.py                 SimCLR_data_util.py\n",
            "evaluate_features.py                   SimCLR_model_load_v1.ipynb\n",
            "\u001b[01;34mfigures\u001b[0m/                               SimCLR.py\n",
            "\u001b[01;34mimg\u001b[0m/                                   SoftmaxCosineSim.py\n",
            "LICENSE                                swish.py\n"
          ],
          "name": "stdout"
        }
      ]
    },
    {
      "cell_type": "code",
      "metadata": {
        "colab": {
          "base_uri": "https://localhost:8080/"
        },
        "id": "SYvVXnNOKaL0",
        "outputId": "42c2e8ff-7f04-4213-b8a2-2c54116dc54a"
      },
      "source": [
        "#Install all the libraries\n",
        "!pip install keras==2.3.1\n",
        "!pip install tensorflow==2.1.0\n",
        "!pip install opencv-python==4.2.0.32\n",
        "!pip install scikit-learn==0.23.1\n",
        "!pip install scipy==1.4.1\n",
        "!pip install DateTime==4.3"
      ],
      "execution_count": null,
      "outputs": [
        {
          "output_type": "stream",
          "text": [
            "Requirement already satisfied: keras==2.3.1 in /usr/local/lib/python3.7/dist-packages (2.3.1)\n",
            "Requirement already satisfied: numpy>=1.9.1 in /usr/local/lib/python3.7/dist-packages (from keras==2.3.1) (1.21.0)\n",
            "Requirement already satisfied: scipy>=0.14 in /usr/local/lib/python3.7/dist-packages (from keras==2.3.1) (1.4.1)\n",
            "Requirement already satisfied: h5py in /usr/local/lib/python3.7/dist-packages (from keras==2.3.1) (2.10.0)\n",
            "Requirement already satisfied: keras-preprocessing>=1.0.5 in /usr/local/lib/python3.7/dist-packages (from keras==2.3.1) (1.1.2)\n",
            "Requirement already satisfied: pyyaml in /usr/local/lib/python3.7/dist-packages (from keras==2.3.1) (3.13)\n",
            "Requirement already satisfied: six>=1.9.0 in /usr/local/lib/python3.7/dist-packages (from keras==2.3.1) (1.16.0)\n",
            "Requirement already satisfied: keras-applications>=1.0.6 in /usr/local/lib/python3.7/dist-packages (from keras==2.3.1) (1.0.8)\n",
            "Requirement already satisfied: tensorflow==2.1.0 in /usr/local/lib/python3.7/dist-packages (2.1.0)\n",
            "Requirement already satisfied: protobuf>=3.8.0 in /usr/local/lib/python3.7/dist-packages (from tensorflow==2.1.0) (3.12.4)\n",
            "Requirement already satisfied: termcolor>=1.1.0 in /usr/local/lib/python3.7/dist-packages (from tensorflow==2.1.0) (1.1.0)\n",
            "Requirement already satisfied: google-pasta>=0.1.6 in /usr/local/lib/python3.7/dist-packages (from tensorflow==2.1.0) (0.2.0)\n",
            "Requirement already satisfied: keras-applications>=1.0.8 in /usr/local/lib/python3.7/dist-packages (from tensorflow==2.1.0) (1.0.8)\n",
            "Requirement already satisfied: astor>=0.6.0 in /usr/local/lib/python3.7/dist-packages (from tensorflow==2.1.0) (0.8.1)\n",
            "Requirement already satisfied: wheel>=0.26; python_version >= \"3\" in /usr/local/lib/python3.7/dist-packages (from tensorflow==2.1.0) (0.36.2)\n",
            "Requirement already satisfied: tensorflow-estimator<2.2.0,>=2.1.0rc0 in /usr/local/lib/python3.7/dist-packages (from tensorflow==2.1.0) (2.1.0)\n",
            "Requirement already satisfied: scipy==1.4.1; python_version >= \"3\" in /usr/local/lib/python3.7/dist-packages (from tensorflow==2.1.0) (1.4.1)\n",
            "Requirement already satisfied: absl-py>=0.7.0 in /usr/local/lib/python3.7/dist-packages (from tensorflow==2.1.0) (0.12.0)\n",
            "Requirement already satisfied: wrapt>=1.11.1 in /usr/local/lib/python3.7/dist-packages (from tensorflow==2.1.0) (1.12.1)\n",
            "Requirement already satisfied: numpy<2.0,>=1.16.0 in /usr/local/lib/python3.7/dist-packages (from tensorflow==2.1.0) (1.21.0)\n",
            "Requirement already satisfied: opt-einsum>=2.3.2 in /usr/local/lib/python3.7/dist-packages (from tensorflow==2.1.0) (3.3.0)\n",
            "Requirement already satisfied: tensorboard<2.2.0,>=2.1.0 in /usr/local/lib/python3.7/dist-packages (from tensorflow==2.1.0) (2.1.1)\n",
            "Requirement already satisfied: keras-preprocessing>=1.1.0 in /usr/local/lib/python3.7/dist-packages (from tensorflow==2.1.0) (1.1.2)\n",
            "Requirement already satisfied: six>=1.12.0 in /usr/local/lib/python3.7/dist-packages (from tensorflow==2.1.0) (1.16.0)\n",
            "Requirement already satisfied: grpcio>=1.8.6 in /usr/local/lib/python3.7/dist-packages (from tensorflow==2.1.0) (1.34.1)\n",
            "Requirement already satisfied: gast==0.2.2 in /usr/local/lib/python3.7/dist-packages (from tensorflow==2.1.0) (0.2.2)\n",
            "Requirement already satisfied: setuptools in /usr/local/lib/python3.7/dist-packages (from protobuf>=3.8.0->tensorflow==2.1.0) (57.0.0)\n",
            "Requirement already satisfied: h5py in /usr/local/lib/python3.7/dist-packages (from keras-applications>=1.0.8->tensorflow==2.1.0) (2.10.0)\n",
            "Requirement already satisfied: google-auth-oauthlib<0.5,>=0.4.1 in /usr/local/lib/python3.7/dist-packages (from tensorboard<2.2.0,>=2.1.0->tensorflow==2.1.0) (0.4.4)\n",
            "Requirement already satisfied: google-auth<2,>=1.6.3 in /usr/local/lib/python3.7/dist-packages (from tensorboard<2.2.0,>=2.1.0->tensorflow==2.1.0) (1.31.0)\n",
            "Requirement already satisfied: requests<3,>=2.21.0 in /usr/local/lib/python3.7/dist-packages (from tensorboard<2.2.0,>=2.1.0->tensorflow==2.1.0) (2.23.0)\n",
            "Requirement already satisfied: markdown>=2.6.8 in /usr/local/lib/python3.7/dist-packages (from tensorboard<2.2.0,>=2.1.0->tensorflow==2.1.0) (3.3.4)\n",
            "Requirement already satisfied: werkzeug>=0.11.15 in /usr/local/lib/python3.7/dist-packages (from tensorboard<2.2.0,>=2.1.0->tensorflow==2.1.0) (1.0.1)\n",
            "Requirement already satisfied: requests-oauthlib>=0.7.0 in /usr/local/lib/python3.7/dist-packages (from google-auth-oauthlib<0.5,>=0.4.1->tensorboard<2.2.0,>=2.1.0->tensorflow==2.1.0) (1.3.0)\n",
            "Requirement already satisfied: cachetools<5.0,>=2.0.0 in /usr/local/lib/python3.7/dist-packages (from google-auth<2,>=1.6.3->tensorboard<2.2.0,>=2.1.0->tensorflow==2.1.0) (4.2.2)\n",
            "Requirement already satisfied: rsa<5,>=3.1.4; python_version >= \"3.6\" in /usr/local/lib/python3.7/dist-packages (from google-auth<2,>=1.6.3->tensorboard<2.2.0,>=2.1.0->tensorflow==2.1.0) (4.7.2)\n",
            "Requirement already satisfied: pyasn1-modules>=0.2.1 in /usr/local/lib/python3.7/dist-packages (from google-auth<2,>=1.6.3->tensorboard<2.2.0,>=2.1.0->tensorflow==2.1.0) (0.2.8)\n",
            "Requirement already satisfied: chardet<4,>=3.0.2 in /usr/local/lib/python3.7/dist-packages (from requests<3,>=2.21.0->tensorboard<2.2.0,>=2.1.0->tensorflow==2.1.0) (3.0.4)\n",
            "Requirement already satisfied: certifi>=2017.4.17 in /usr/local/lib/python3.7/dist-packages (from requests<3,>=2.21.0->tensorboard<2.2.0,>=2.1.0->tensorflow==2.1.0) (2021.5.30)\n",
            "Requirement already satisfied: urllib3!=1.25.0,!=1.25.1,<1.26,>=1.21.1 in /usr/local/lib/python3.7/dist-packages (from requests<3,>=2.21.0->tensorboard<2.2.0,>=2.1.0->tensorflow==2.1.0) (1.24.3)\n",
            "Requirement already satisfied: idna<3,>=2.5 in /usr/local/lib/python3.7/dist-packages (from requests<3,>=2.21.0->tensorboard<2.2.0,>=2.1.0->tensorflow==2.1.0) (2.10)\n",
            "Requirement already satisfied: importlib-metadata; python_version < \"3.8\" in /usr/local/lib/python3.7/dist-packages (from markdown>=2.6.8->tensorboard<2.2.0,>=2.1.0->tensorflow==2.1.0) (4.5.0)\n",
            "Requirement already satisfied: oauthlib>=3.0.0 in /usr/local/lib/python3.7/dist-packages (from requests-oauthlib>=0.7.0->google-auth-oauthlib<0.5,>=0.4.1->tensorboard<2.2.0,>=2.1.0->tensorflow==2.1.0) (3.1.1)\n",
            "Requirement already satisfied: pyasn1>=0.1.3 in /usr/local/lib/python3.7/dist-packages (from rsa<5,>=3.1.4; python_version >= \"3.6\"->google-auth<2,>=1.6.3->tensorboard<2.2.0,>=2.1.0->tensorflow==2.1.0) (0.4.8)\n",
            "Requirement already satisfied: zipp>=0.5 in /usr/local/lib/python3.7/dist-packages (from importlib-metadata; python_version < \"3.8\"->markdown>=2.6.8->tensorboard<2.2.0,>=2.1.0->tensorflow==2.1.0) (3.4.1)\n",
            "Requirement already satisfied: typing-extensions>=3.6.4; python_version < \"3.8\" in /usr/local/lib/python3.7/dist-packages (from importlib-metadata; python_version < \"3.8\"->markdown>=2.6.8->tensorboard<2.2.0,>=2.1.0->tensorflow==2.1.0) (3.7.4.3)\n",
            "Requirement already satisfied: opencv-python==4.2.0.32 in /usr/local/lib/python3.7/dist-packages (4.2.0.32)\n",
            "Requirement already satisfied: numpy>=1.14.5 in /usr/local/lib/python3.7/dist-packages (from opencv-python==4.2.0.32) (1.21.0)\n",
            "Requirement already satisfied: scikit-learn==0.23.1 in /usr/local/lib/python3.7/dist-packages (0.23.1)\n",
            "Requirement already satisfied: joblib>=0.11 in /usr/local/lib/python3.7/dist-packages (from scikit-learn==0.23.1) (1.0.1)\n",
            "Requirement already satisfied: threadpoolctl>=2.0.0 in /usr/local/lib/python3.7/dist-packages (from scikit-learn==0.23.1) (2.1.0)\n",
            "Requirement already satisfied: numpy>=1.13.3 in /usr/local/lib/python3.7/dist-packages (from scikit-learn==0.23.1) (1.21.0)\n",
            "Requirement already satisfied: scipy>=0.19.1 in /usr/local/lib/python3.7/dist-packages (from scikit-learn==0.23.1) (1.4.1)\n",
            "Requirement already satisfied: scipy==1.4.1 in /usr/local/lib/python3.7/dist-packages (1.4.1)\n",
            "Requirement already satisfied: numpy>=1.13.3 in /usr/local/lib/python3.7/dist-packages (from scipy==1.4.1) (1.21.0)\n",
            "Requirement already satisfied: DateTime==4.3 in /usr/local/lib/python3.7/dist-packages (4.3)\n",
            "Requirement already satisfied: pytz in /usr/local/lib/python3.7/dist-packages (from DateTime==4.3) (2018.9)\n",
            "Requirement already satisfied: zope.interface in /usr/local/lib/python3.7/dist-packages (from DateTime==4.3) (5.4.0)\n",
            "Requirement already satisfied: setuptools in /usr/local/lib/python3.7/dist-packages (from zope.interface->DateTime==4.3) (57.0.0)\n"
          ],
          "name": "stdout"
        }
      ]
    },
    {
      "cell_type": "code",
      "metadata": {
        "colab": {
          "base_uri": "https://localhost:8080/"
        },
        "id": "Y6C5IuxGCPXd",
        "outputId": "0adc2a7d-e5dc-4dd5-c98a-53eb34a57dc8"
      },
      "source": [
        "!pip install keras==2.3.1"
      ],
      "execution_count": null,
      "outputs": [
        {
          "output_type": "stream",
          "text": [
            "Requirement already satisfied: keras==2.3.1 in /usr/local/lib/python3.7/dist-packages (2.3.1)\n",
            "Requirement already satisfied: numpy>=1.9.1 in /usr/local/lib/python3.7/dist-packages (from keras==2.3.1) (1.21.0)\n",
            "Requirement already satisfied: scipy>=0.14 in /usr/local/lib/python3.7/dist-packages (from keras==2.3.1) (1.4.1)\n",
            "Requirement already satisfied: h5py in /usr/local/lib/python3.7/dist-packages (from keras==2.3.1) (2.10.0)\n",
            "Requirement already satisfied: keras-applications>=1.0.6 in /usr/local/lib/python3.7/dist-packages (from keras==2.3.1) (1.0.8)\n",
            "Requirement already satisfied: keras-preprocessing>=1.0.5 in /usr/local/lib/python3.7/dist-packages (from keras==2.3.1) (1.1.2)\n",
            "Requirement already satisfied: pyyaml in /usr/local/lib/python3.7/dist-packages (from keras==2.3.1) (3.13)\n",
            "Requirement already satisfied: six>=1.9.0 in /usr/local/lib/python3.7/dist-packages (from keras==2.3.1) (1.16.0)\n"
          ],
          "name": "stdout"
        }
      ]
    },
    {
      "cell_type": "code",
      "metadata": {
        "colab": {
          "base_uri": "https://localhost:8080/",
          "height": 459
        },
        "id": "9VDDDsR0DLtD",
        "outputId": "fc0ca24c-d832-4e68-88fb-5a756a9f3877"
      },
      "source": [
        "!pip install 'h5py==2.10.0' --force-reinstall"
      ],
      "execution_count": null,
      "outputs": [
        {
          "output_type": "stream",
          "text": [
            "Collecting h5py==2.10.0\n",
            "  Using cached https://files.pythonhosted.org/packages/3f/c0/abde58b837e066bca19a3f7332d9d0493521d7dd6b48248451a9e3fe2214/h5py-2.10.0-cp37-cp37m-manylinux1_x86_64.whl\n",
            "Collecting numpy>=1.7\n",
            "  Using cached https://files.pythonhosted.org/packages/3f/03/c3526fb4e79a793498829ca570f2f868204ad9a8040afcd72d82a8f121db/numpy-1.21.0-cp37-cp37m-manylinux_2_12_x86_64.manylinux2010_x86_64.whl\n",
            "Collecting six\n",
            "  Using cached https://files.pythonhosted.org/packages/d9/5a/e7c31adbe875f2abbb91bd84cf2dc52d792b5a01506781dbcf25c91daf11/six-1.16.0-py2.py3-none-any.whl\n",
            "\u001b[31mERROR: tensorflow-probability 0.12.1 has requirement gast>=0.3.2, but you'll have gast 0.2.2 which is incompatible.\u001b[0m\n",
            "\u001b[31mERROR: google-colab 1.0.0 has requirement six~=1.15.0, but you'll have six 1.16.0 which is incompatible.\u001b[0m\n",
            "\u001b[31mERROR: datascience 0.10.6 has requirement folium==0.2.1, but you'll have folium 0.8.3 which is incompatible.\u001b[0m\n",
            "\u001b[31mERROR: albumentations 0.1.12 has requirement imgaug<0.2.7,>=0.2.5, but you'll have imgaug 0.2.9 which is incompatible.\u001b[0m\n",
            "Installing collected packages: numpy, six, h5py\n",
            "  Found existing installation: numpy 1.21.0\n",
            "    Uninstalling numpy-1.21.0:\n",
            "      Successfully uninstalled numpy-1.21.0\n",
            "  Found existing installation: six 1.16.0\n",
            "    Uninstalling six-1.16.0:\n",
            "      Successfully uninstalled six-1.16.0\n",
            "  Found existing installation: h5py 2.10.0\n",
            "    Uninstalling h5py-2.10.0:\n",
            "      Successfully uninstalled h5py-2.10.0\n",
            "Successfully installed h5py-2.10.0 numpy-1.21.0 six-1.16.0\n"
          ],
          "name": "stdout"
        },
        {
          "output_type": "display_data",
          "data": {
            "application/vnd.colab-display-data+json": {
              "pip_warning": {
                "packages": [
                  "numpy",
                  "six"
                ]
              }
            }
          },
          "metadata": {
            "tags": []
          }
        }
      ]
    },
    {
      "cell_type": "code",
      "metadata": {
        "id": "06IS33SBBJkw",
        "colab": {
          "base_uri": "https://localhost:8080/",
          "height": 367
        },
        "outputId": "4428d4ef-1003-4efd-8288-72d6df53e676"
      },
      "source": [
        "import tensorflow as tf\n",
        "import json\n",
        "import os\n",
        "from tensorflow import keras\n",
        "from tensorflow.keras.models import load_model, model_from_json\n",
        "from DataGeneratorSimCLR import DataGeneratorSimCLR as DataGenerator\n",
        "from tensorflow.keras.applications.vgg16 import VGG16 \n",
        "from SimCLR import SimCLR"
      ],
      "execution_count": null,
      "outputs": [
        {
          "output_type": "error",
          "ename": "ModuleNotFoundError",
          "evalue": "ignored",
          "traceback": [
            "\u001b[0;31m---------------------------------------------------------------------------\u001b[0m",
            "\u001b[0;31mModuleNotFoundError\u001b[0m                       Traceback (most recent call last)",
            "\u001b[0;32m<ipython-input-2-fc73cc0c8411>\u001b[0m in \u001b[0;36m<module>\u001b[0;34m()\u001b[0m\n\u001b[1;32m      4\u001b[0m \u001b[0;32mfrom\u001b[0m \u001b[0mtensorflow\u001b[0m \u001b[0;32mimport\u001b[0m \u001b[0mkeras\u001b[0m\u001b[0;34m\u001b[0m\u001b[0;34m\u001b[0m\u001b[0m\n\u001b[1;32m      5\u001b[0m \u001b[0;32mfrom\u001b[0m \u001b[0mtensorflow\u001b[0m\u001b[0;34m.\u001b[0m\u001b[0mkeras\u001b[0m\u001b[0;34m.\u001b[0m\u001b[0mmodels\u001b[0m \u001b[0;32mimport\u001b[0m \u001b[0mload_model\u001b[0m\u001b[0;34m,\u001b[0m \u001b[0mmodel_from_json\u001b[0m\u001b[0;34m\u001b[0m\u001b[0;34m\u001b[0m\u001b[0m\n\u001b[0;32m----> 6\u001b[0;31m \u001b[0;32mfrom\u001b[0m \u001b[0mDataGeneratorSimCLR\u001b[0m \u001b[0;32mimport\u001b[0m \u001b[0mDataGeneratorSimCLR\u001b[0m \u001b[0;32mas\u001b[0m \u001b[0mDataGenerator\u001b[0m\u001b[0;34m\u001b[0m\u001b[0;34m\u001b[0m\u001b[0m\n\u001b[0m\u001b[1;32m      7\u001b[0m \u001b[0;32mfrom\u001b[0m \u001b[0mtensorflow\u001b[0m\u001b[0;34m.\u001b[0m\u001b[0mkeras\u001b[0m\u001b[0;34m.\u001b[0m\u001b[0mapplications\u001b[0m\u001b[0;34m.\u001b[0m\u001b[0mvgg16\u001b[0m \u001b[0;32mimport\u001b[0m \u001b[0mVGG16\u001b[0m\u001b[0;34m\u001b[0m\u001b[0;34m\u001b[0m\u001b[0m\n\u001b[1;32m      8\u001b[0m \u001b[0;32mfrom\u001b[0m \u001b[0mSimCLR\u001b[0m \u001b[0;32mimport\u001b[0m \u001b[0mSimCLR\u001b[0m\u001b[0;34m\u001b[0m\u001b[0;34m\u001b[0m\u001b[0m\n",
            "\u001b[0;31mModuleNotFoundError\u001b[0m: No module named 'DataGeneratorSimCLR'",
            "",
            "\u001b[0;31m---------------------------------------------------------------------------\u001b[0;32m\nNOTE: If your import is failing due to a missing package, you can\nmanually install dependencies using either !pip or !apt.\n\nTo view examples of installing some common dependencies, click the\n\"Open Examples\" button below.\n\u001b[0;31m---------------------------------------------------------------------------\u001b[0m\n"
          ]
        }
      ]
    },
    {
      "cell_type": "code",
      "metadata": {
        "colab": {
          "base_uri": "https://localhost:8080/"
        },
        "id": "k9Fb_MATBWGK",
        "outputId": "2d851887-3b79-45d7-8d86-169f41b941ac"
      },
      "source": [
        "os.chdir('/content/drive/My Drive/Colab Notebooks/simclr_tf_keras_07022021/oct_run/50per_train_data/SimCLRv1-keras-tensorflow/models/trashnet/SimCLR')\n",
        "%ls"
      ],
      "execution_count": null,
      "outputs": [
        {
          "output_type": "stream",
          "text": [
            " \u001b[0m\u001b[01;34mcontent\u001b[0m/                          SimCLR_07_04_23h_08.h5\n",
            "'Copy of SimCLR_07_04_22h_42.h5'   SimCLR_07_07_06h_48.h5\n",
            " SimCLR_07_04_02h_07.h5            SimCLR_07_07_07h_35.h5\n",
            " SimCLR_07_04_21h_28.h5            SimCLR_07_07_16h_33.h5\n",
            " SimCLR_07_04_22h_15.h5            SimCLR_07_07_17h_19.h5\n",
            " SimCLR_07_04_22h_42.h5            SimCLR_07_07_17h_59.h5\n",
            " \u001b[01;34mSimCLR_07_04_22h_42.pb\u001b[0m/\n"
          ],
          "name": "stdout"
        }
      ]
    },
    {
      "cell_type": "code",
      "metadata": {
        "colab": {
          "base_uri": "https://localhost:8080/"
        },
        "id": "TKJxqXUtCdEH",
        "outputId": "12c524c8-f94d-46db-eccf-5de5776400e5"
      },
      "source": [
        "model = load_model('/content/drive/My Drive/Colab Notebooks/simclr_tf_keras_07022021/oct_run/50per_train_data/SimCLRv1-keras-tensorflow/models/trashnet/base_model/base_model_round_3.h5')\n"
      ],
      "execution_count": null,
      "outputs": [
        {
          "output_type": "stream",
          "text": [
            "WARNING:tensorflow:No training configuration found in save file: the model was *not* compiled. Compile it manually.\n"
          ],
          "name": "stdout"
        }
      ]
    },
    {
      "cell_type": "code",
      "metadata": {
        "colab": {
          "base_uri": "https://localhost:8080/"
        },
        "id": "bNnBPbkJDrPV",
        "outputId": "b124e8e3-0150-4729-81c2-6c0e6063d2e6"
      },
      "source": [
        "model.save('content/drive/My Drive/Colab Notebooks/simclr_tf_keras_07022021/oct_run/50per_train_data/SimCLRv1-keras-tensorflow/models/trashnet/models_share/base_model_round3_VGG-16.pb')"
      ],
      "execution_count": null,
      "outputs": [
        {
          "output_type": "stream",
          "text": [
            "WARNING:tensorflow:From /usr/local/lib/python3.7/dist-packages/tensorflow_core/python/ops/resource_variable_ops.py:1786: calling BaseResourceVariable.__init__ (from tensorflow.python.ops.resource_variable_ops) with constraint is deprecated and will be removed in a future version.\n",
            "Instructions for updating:\n",
            "If using Keras pass *_constraint arguments to layers.\n",
            "INFO:tensorflow:Assets written to: content/drive/My Drive/Colab Notebooks/simclr_tf_keras_07022021/oct_run/50per_train_data/SimCLRv1-keras-tensorflow/models/trashnet/models_share/base_model_round3_VGG-16.pb/assets\n"
          ],
          "name": "stdout"
        }
      ]
    },
    {
      "cell_type": "code",
      "metadata": {
        "id": "4eyiYghF8yd-"
      },
      "source": [
        "model_json = model.to_json()\n",
        "with open('/content/drive/My Drive/Colab Notebooks/simclr_tf_keras_07022021/oct_run/50per_train_data/SimCLRv1-keras-tensorflow/models/trashnet/models_share/base_model_round3_VGG-16.json','w') as json_file:\n",
        "  json_file.write(model_json)"
      ],
      "execution_count": null,
      "outputs": []
    },
    {
      "cell_type": "code",
      "metadata": {
        "id": "2gC4WQj3-Er8"
      },
      "source": [
        "# load json and create model\n",
        "json_file = open('/content/drive/My Drive/Colab Notebooks/simclr_tf_keras_07022021/oct_run/50per_train_data/SimCLRv1-keras-tensorflow/models/trashnet/models_share/base_model_round3_VGG-16.json', 'r')\n",
        "loaded_model_json = json_file.read()\n",
        "json_file.close()\n",
        "loaded_model = model_from_json(loaded_model_json)"
      ],
      "execution_count": null,
      "outputs": []
    },
    {
      "cell_type": "code",
      "metadata": {
        "id": "QNheWzbaEV5M"
      },
      "source": [
        "from swish import Swish\n",
        "from SoftmaxCosineSim import SoftmaxCosineSim"
      ],
      "execution_count": null,
      "outputs": []
    },
    {
      "cell_type": "code",
      "metadata": {
        "colab": {
          "base_uri": "https://localhost:8080/"
        },
        "id": "NuamjzN_Dz_u",
        "outputId": "1ec67ff5-f1f6-4213-e8a7-e2376d02dfc4"
      },
      "source": [
        "model_simclr = load_model('/content/drive/My Drive/Colab Notebooks/simclr_tf_keras_07022021/oct_run/50per_train_data/SimCLRv1-keras-tensorflow/models/trashnet/SimCLR/SimCLR_07_07_17h_59.h5', custom_objects={'SoftmaxCosineSim':SoftmaxCosineSim,'Swish':Swish})\n"
      ],
      "execution_count": null,
      "outputs": [
        {
          "output_type": "stream",
          "text": [
            "WARNING:tensorflow:Error in loading the saved optimizer state. As a result, your model is starting with a freshly initialized optimizer.\n"
          ],
          "name": "stdout"
        }
      ]
    },
    {
      "cell_type": "code",
      "metadata": {
        "id": "FCGcFGar-g9h"
      },
      "source": [
        "model_json = model_simclr.to_json()\n",
        "with open('/content/drive/My Drive/Colab Notebooks/simclr_tf_keras_07022021/oct_run/50per_train_data/SimCLRv1-keras-tensorflow/models/trashnet/models_share/SimCLR_07_07_17h_59.json','w') as json_file:\n",
        "  json_file.write(model_json)"
      ],
      "execution_count": null,
      "outputs": []
    },
    {
      "cell_type": "code",
      "metadata": {
        "colab": {
          "base_uri": "https://localhost:8080/"
        },
        "id": "98uU_fiz-vO8",
        "outputId": "5f99036f-c969-4786-8001-a231ba57b824"
      },
      "source": [
        "# load json and create model\n",
        "json_file = open('/content/drive/My Drive/Colab Notebooks/simclr_tf_keras_07022021/oct_run/50per_train_data/SimCLRv1-keras-tensorflow/models/trashnet/models_share/SimCLR_07_07_17h_59.json', 'r')\n",
        "loaded_model_json = json_file.read()\n",
        "json_file.close()\n",
        "loaded_model = model_from_json(loaded_model_json, custom_objects={'SoftmaxCosineSim':SoftmaxCosineSim,'Swish':Swish})\n",
        "print(loaded_model_json)"
      ],
      "execution_count": null,
      "outputs": [
        {
          "output_type": "stream",
          "text": [
            "{\"class_name\": \"Model\", \"config\": {\"name\": \"model_32\", \"layers\": [{\"class_name\": \"InputLayer\", \"config\": {\"batch_input_shape\": [null, 80, 80, 3], \"dtype\": \"float32\", \"sparse\": false, \"ragged\": false, \"name\": \"input_130\"}, \"name\": \"input_130\", \"inbound_nodes\": []}, {\"class_name\": \"InputLayer\", \"config\": {\"batch_input_shape\": [null, 80, 80, 3], \"dtype\": \"float32\", \"sparse\": false, \"ragged\": false, \"name\": \"input_131\"}, \"name\": \"input_131\", \"inbound_nodes\": []}, {\"class_name\": \"InputLayer\", \"config\": {\"batch_input_shape\": [null, 80, 80, 3], \"dtype\": \"float32\", \"sparse\": false, \"ragged\": false, \"name\": \"input_132\"}, \"name\": \"input_132\", \"inbound_nodes\": []}, {\"class_name\": \"InputLayer\", \"config\": {\"batch_input_shape\": [null, 80, 80, 3], \"dtype\": \"float32\", \"sparse\": false, \"ragged\": false, \"name\": \"input_133\"}, \"name\": \"input_133\", \"inbound_nodes\": []}, {\"class_name\": \"InputLayer\", \"config\": {\"batch_input_shape\": [null, 80, 80, 3], \"dtype\": \"float32\", \"sparse\": false, \"ragged\": false, \"name\": \"input_134\"}, \"name\": \"input_134\", \"inbound_nodes\": []}, {\"class_name\": \"InputLayer\", \"config\": {\"batch_input_shape\": [null, 80, 80, 3], \"dtype\": \"float32\", \"sparse\": false, \"ragged\": false, \"name\": \"input_135\"}, \"name\": \"input_135\", \"inbound_nodes\": []}, {\"class_name\": \"InputLayer\", \"config\": {\"batch_input_shape\": [null, 80, 80, 3], \"dtype\": \"float32\", \"sparse\": false, \"ragged\": false, \"name\": \"input_136\"}, \"name\": \"input_136\", \"inbound_nodes\": []}, {\"class_name\": \"InputLayer\", \"config\": {\"batch_input_shape\": [null, 80, 80, 3], \"dtype\": \"float32\", \"sparse\": false, \"ragged\": false, \"name\": \"input_137\"}, \"name\": \"input_137\", \"inbound_nodes\": []}, {\"class_name\": \"InputLayer\", \"config\": {\"batch_input_shape\": [null, 80, 80, 3], \"dtype\": \"float32\", \"sparse\": false, \"ragged\": false, \"name\": \"input_138\"}, \"name\": \"input_138\", \"inbound_nodes\": []}, {\"class_name\": \"InputLayer\", \"config\": {\"batch_input_shape\": [null, 80, 80, 3], \"dtype\": \"float32\", \"sparse\": false, \"ragged\": false, \"name\": \"input_139\"}, \"name\": \"input_139\", \"inbound_nodes\": []}, {\"class_name\": \"InputLayer\", \"config\": {\"batch_input_shape\": [null, 80, 80, 3], \"dtype\": \"float32\", \"sparse\": false, \"ragged\": false, \"name\": \"input_140\"}, \"name\": \"input_140\", \"inbound_nodes\": []}, {\"class_name\": \"InputLayer\", \"config\": {\"batch_input_shape\": [null, 80, 80, 3], \"dtype\": \"float32\", \"sparse\": false, \"ragged\": false, \"name\": \"input_141\"}, \"name\": \"input_141\", \"inbound_nodes\": []}, {\"class_name\": \"InputLayer\", \"config\": {\"batch_input_shape\": [null, 80, 80, 3], \"dtype\": \"float32\", \"sparse\": false, \"ragged\": false, \"name\": \"input_142\"}, \"name\": \"input_142\", \"inbound_nodes\": []}, {\"class_name\": \"InputLayer\", \"config\": {\"batch_input_shape\": [null, 80, 80, 3], \"dtype\": \"float32\", \"sparse\": false, \"ragged\": false, \"name\": \"input_143\"}, \"name\": \"input_143\", \"inbound_nodes\": []}, {\"class_name\": \"InputLayer\", \"config\": {\"batch_input_shape\": [null, 80, 80, 3], \"dtype\": \"float32\", \"sparse\": false, \"ragged\": false, \"name\": \"input_144\"}, \"name\": \"input_144\", \"inbound_nodes\": []}, {\"class_name\": \"InputLayer\", \"config\": {\"batch_input_shape\": [null, 80, 80, 3], \"dtype\": \"float32\", \"sparse\": false, \"ragged\": false, \"name\": \"input_145\"}, \"name\": \"input_145\", \"inbound_nodes\": []}, {\"class_name\": \"InputLayer\", \"config\": {\"batch_input_shape\": [null, 80, 80, 3], \"dtype\": \"float32\", \"sparse\": false, \"ragged\": false, \"name\": \"input_146\"}, \"name\": \"input_146\", \"inbound_nodes\": []}, {\"class_name\": \"InputLayer\", \"config\": {\"batch_input_shape\": [null, 80, 80, 3], \"dtype\": \"float32\", \"sparse\": false, \"ragged\": false, \"name\": \"input_147\"}, \"name\": \"input_147\", \"inbound_nodes\": []}, {\"class_name\": \"InputLayer\", \"config\": {\"batch_input_shape\": [null, 80, 80, 3], \"dtype\": \"float32\", \"sparse\": false, \"ragged\": false, \"name\": \"input_148\"}, \"name\": \"input_148\", \"inbound_nodes\": []}, {\"class_name\": \"InputLayer\", \"config\": {\"batch_input_shape\": [null, 80, 80, 3], \"dtype\": \"float32\", \"sparse\": false, \"ragged\": false, \"name\": \"input_149\"}, \"name\": \"input_149\", \"inbound_nodes\": []}, {\"class_name\": \"InputLayer\", \"config\": {\"batch_input_shape\": [null, 80, 80, 3], \"dtype\": \"float32\", \"sparse\": false, \"ragged\": false, \"name\": \"input_150\"}, \"name\": \"input_150\", \"inbound_nodes\": []}, {\"class_name\": \"InputLayer\", \"config\": {\"batch_input_shape\": [null, 80, 80, 3], \"dtype\": \"float32\", \"sparse\": false, \"ragged\": false, \"name\": \"input_151\"}, \"name\": \"input_151\", \"inbound_nodes\": []}, {\"class_name\": \"InputLayer\", \"config\": {\"batch_input_shape\": [null, 80, 80, 3], \"dtype\": \"float32\", \"sparse\": false, \"ragged\": false, \"name\": \"input_152\"}, \"name\": \"input_152\", \"inbound_nodes\": []}, {\"class_name\": \"InputLayer\", \"config\": {\"batch_input_shape\": [null, 80, 80, 3], \"dtype\": \"float32\", \"sparse\": false, \"ragged\": false, \"name\": \"input_153\"}, \"name\": \"input_153\", \"inbound_nodes\": []}, {\"class_name\": \"InputLayer\", \"config\": {\"batch_input_shape\": [null, 80, 80, 3], \"dtype\": \"float32\", \"sparse\": false, \"ragged\": false, \"name\": \"input_154\"}, \"name\": \"input_154\", \"inbound_nodes\": []}, {\"class_name\": \"InputLayer\", \"config\": {\"batch_input_shape\": [null, 80, 80, 3], \"dtype\": \"float32\", \"sparse\": false, \"ragged\": false, \"name\": \"input_155\"}, \"name\": \"input_155\", \"inbound_nodes\": []}, {\"class_name\": \"InputLayer\", \"config\": {\"batch_input_shape\": [null, 80, 80, 3], \"dtype\": \"float32\", \"sparse\": false, \"ragged\": false, \"name\": \"input_156\"}, \"name\": \"input_156\", \"inbound_nodes\": []}, {\"class_name\": \"InputLayer\", \"config\": {\"batch_input_shape\": [null, 80, 80, 3], \"dtype\": \"float32\", \"sparse\": false, \"ragged\": false, \"name\": \"input_157\"}, \"name\": \"input_157\", \"inbound_nodes\": []}, {\"class_name\": \"InputLayer\", \"config\": {\"batch_input_shape\": [null, 80, 80, 3], \"dtype\": \"float32\", \"sparse\": false, \"ragged\": false, \"name\": \"input_158\"}, \"name\": \"input_158\", \"inbound_nodes\": []}, {\"class_name\": \"InputLayer\", \"config\": {\"batch_input_shape\": [null, 80, 80, 3], \"dtype\": \"float32\", \"sparse\": false, \"ragged\": false, \"name\": \"input_159\"}, \"name\": \"input_159\", \"inbound_nodes\": []}, {\"class_name\": \"InputLayer\", \"config\": {\"batch_input_shape\": [null, 80, 80, 3], \"dtype\": \"float32\", \"sparse\": false, \"ragged\": false, \"name\": \"input_160\"}, \"name\": \"input_160\", \"inbound_nodes\": []}, {\"class_name\": \"InputLayer\", \"config\": {\"batch_input_shape\": [null, 80, 80, 3], \"dtype\": \"float32\", \"sparse\": false, \"ragged\": false, \"name\": \"input_161\"}, \"name\": \"input_161\", \"inbound_nodes\": []}, {\"class_name\": \"InputLayer\", \"config\": {\"batch_input_shape\": [null, 80, 80, 3], \"dtype\": \"float32\", \"sparse\": false, \"ragged\": false, \"name\": \"input_162\"}, \"name\": \"input_162\", \"inbound_nodes\": []}, {\"class_name\": \"InputLayer\", \"config\": {\"batch_input_shape\": [null, 80, 80, 3], \"dtype\": \"float32\", \"sparse\": false, \"ragged\": false, \"name\": \"input_163\"}, \"name\": \"input_163\", \"inbound_nodes\": []}, {\"class_name\": \"InputLayer\", \"config\": {\"batch_input_shape\": [null, 80, 80, 3], \"dtype\": \"float32\", \"sparse\": false, \"ragged\": false, \"name\": \"input_164\"}, \"name\": \"input_164\", \"inbound_nodes\": []}, {\"class_name\": \"InputLayer\", \"config\": {\"batch_input_shape\": [null, 80, 80, 3], \"dtype\": \"float32\", \"sparse\": false, \"ragged\": false, \"name\": \"input_165\"}, \"name\": \"input_165\", \"inbound_nodes\": []}, {\"class_name\": \"InputLayer\", \"config\": {\"batch_input_shape\": [null, 80, 80, 3], \"dtype\": \"float32\", \"sparse\": false, \"ragged\": false, \"name\": \"input_166\"}, \"name\": \"input_166\", \"inbound_nodes\": []}, {\"class_name\": \"InputLayer\", \"config\": {\"batch_input_shape\": [null, 80, 80, 3], \"dtype\": \"float32\", \"sparse\": false, \"ragged\": false, \"name\": \"input_167\"}, \"name\": \"input_167\", \"inbound_nodes\": []}, {\"class_name\": \"InputLayer\", \"config\": {\"batch_input_shape\": [null, 80, 80, 3], \"dtype\": \"float32\", \"sparse\": false, \"ragged\": false, \"name\": \"input_168\"}, \"name\": \"input_168\", \"inbound_nodes\": []}, {\"class_name\": \"InputLayer\", \"config\": {\"batch_input_shape\": [null, 80, 80, 3], \"dtype\": \"float32\", \"sparse\": false, \"ragged\": false, \"name\": \"input_169\"}, \"name\": \"input_169\", \"inbound_nodes\": []}, {\"class_name\": \"InputLayer\", \"config\": {\"batch_input_shape\": [null, 80, 80, 3], \"dtype\": \"float32\", \"sparse\": false, \"ragged\": false, \"name\": \"input_170\"}, \"name\": \"input_170\", \"inbound_nodes\": []}, {\"class_name\": \"InputLayer\", \"config\": {\"batch_input_shape\": [null, 80, 80, 3], \"dtype\": \"float32\", \"sparse\": false, \"ragged\": false, \"name\": \"input_171\"}, \"name\": \"input_171\", \"inbound_nodes\": []}, {\"class_name\": \"InputLayer\", \"config\": {\"batch_input_shape\": [null, 80, 80, 3], \"dtype\": \"float32\", \"sparse\": false, \"ragged\": false, \"name\": \"input_172\"}, \"name\": \"input_172\", \"inbound_nodes\": []}, {\"class_name\": \"InputLayer\", \"config\": {\"batch_input_shape\": [null, 80, 80, 3], \"dtype\": \"float32\", \"sparse\": false, \"ragged\": false, \"name\": \"input_173\"}, \"name\": \"input_173\", \"inbound_nodes\": []}, {\"class_name\": \"InputLayer\", \"config\": {\"batch_input_shape\": [null, 80, 80, 3], \"dtype\": \"float32\", \"sparse\": false, \"ragged\": false, \"name\": \"input_174\"}, \"name\": \"input_174\", \"inbound_nodes\": []}, {\"class_name\": \"InputLayer\", \"config\": {\"batch_input_shape\": [null, 80, 80, 3], \"dtype\": \"float32\", \"sparse\": false, \"ragged\": false, \"name\": \"input_175\"}, \"name\": \"input_175\", \"inbound_nodes\": []}, {\"class_name\": \"InputLayer\", \"config\": {\"batch_input_shape\": [null, 80, 80, 3], \"dtype\": \"float32\", \"sparse\": false, \"ragged\": false, \"name\": \"input_176\"}, \"name\": \"input_176\", \"inbound_nodes\": []}, {\"class_name\": \"InputLayer\", \"config\": {\"batch_input_shape\": [null, 80, 80, 3], \"dtype\": \"float32\", \"sparse\": false, \"ragged\": false, \"name\": \"input_177\"}, \"name\": \"input_177\", \"inbound_nodes\": []}, {\"class_name\": \"InputLayer\", \"config\": {\"batch_input_shape\": [null, 80, 80, 3], \"dtype\": \"float32\", \"sparse\": false, \"ragged\": false, \"name\": \"input_178\"}, \"name\": \"input_178\", \"inbound_nodes\": []}, {\"class_name\": \"InputLayer\", \"config\": {\"batch_input_shape\": [null, 80, 80, 3], \"dtype\": \"float32\", \"sparse\": false, \"ragged\": false, \"name\": \"input_179\"}, \"name\": \"input_179\", \"inbound_nodes\": []}, {\"class_name\": \"InputLayer\", \"config\": {\"batch_input_shape\": [null, 80, 80, 3], \"dtype\": \"float32\", \"sparse\": false, \"ragged\": false, \"name\": \"input_180\"}, \"name\": \"input_180\", \"inbound_nodes\": []}, {\"class_name\": \"InputLayer\", \"config\": {\"batch_input_shape\": [null, 80, 80, 3], \"dtype\": \"float32\", \"sparse\": false, \"ragged\": false, \"name\": \"input_181\"}, \"name\": \"input_181\", \"inbound_nodes\": []}, {\"class_name\": \"InputLayer\", \"config\": {\"batch_input_shape\": [null, 80, 80, 3], \"dtype\": \"float32\", \"sparse\": false, \"ragged\": false, \"name\": \"input_182\"}, \"name\": \"input_182\", \"inbound_nodes\": []}, {\"class_name\": \"InputLayer\", \"config\": {\"batch_input_shape\": [null, 80, 80, 3], \"dtype\": \"float32\", \"sparse\": false, \"ragged\": false, \"name\": \"input_183\"}, \"name\": \"input_183\", \"inbound_nodes\": []}, {\"class_name\": \"InputLayer\", \"config\": {\"batch_input_shape\": [null, 80, 80, 3], \"dtype\": \"float32\", \"sparse\": false, \"ragged\": false, \"name\": \"input_184\"}, \"name\": \"input_184\", \"inbound_nodes\": []}, {\"class_name\": \"InputLayer\", \"config\": {\"batch_input_shape\": [null, 80, 80, 3], \"dtype\": \"float32\", \"sparse\": false, \"ragged\": false, \"name\": \"input_185\"}, \"name\": \"input_185\", \"inbound_nodes\": []}, {\"class_name\": \"InputLayer\", \"config\": {\"batch_input_shape\": [null, 80, 80, 3], \"dtype\": \"float32\", \"sparse\": false, \"ragged\": false, \"name\": \"input_186\"}, \"name\": \"input_186\", \"inbound_nodes\": []}, {\"class_name\": \"InputLayer\", \"config\": {\"batch_input_shape\": [null, 80, 80, 3], \"dtype\": \"float32\", \"sparse\": false, \"ragged\": false, \"name\": \"input_187\"}, \"name\": \"input_187\", \"inbound_nodes\": []}, {\"class_name\": \"InputLayer\", \"config\": {\"batch_input_shape\": [null, 80, 80, 3], \"dtype\": \"float32\", \"sparse\": false, \"ragged\": false, \"name\": \"input_188\"}, \"name\": \"input_188\", \"inbound_nodes\": []}, {\"class_name\": \"InputLayer\", \"config\": {\"batch_input_shape\": [null, 80, 80, 3], \"dtype\": \"float32\", \"sparse\": false, \"ragged\": false, \"name\": \"input_189\"}, \"name\": \"input_189\", \"inbound_nodes\": []}, {\"class_name\": \"InputLayer\", \"config\": {\"batch_input_shape\": [null, 80, 80, 3], \"dtype\": \"float32\", \"sparse\": false, \"ragged\": false, \"name\": \"input_190\"}, \"name\": \"input_190\", \"inbound_nodes\": []}, {\"class_name\": \"InputLayer\", \"config\": {\"batch_input_shape\": [null, 80, 80, 3], \"dtype\": \"float32\", \"sparse\": false, \"ragged\": false, \"name\": \"input_191\"}, \"name\": \"input_191\", \"inbound_nodes\": []}, {\"class_name\": \"InputLayer\", \"config\": {\"batch_input_shape\": [null, 80, 80, 3], \"dtype\": \"float32\", \"sparse\": false, \"ragged\": false, \"name\": \"input_192\"}, \"name\": \"input_192\", \"inbound_nodes\": []}, {\"class_name\": \"InputLayer\", \"config\": {\"batch_input_shape\": [null, 80, 80, 3], \"dtype\": \"float32\", \"sparse\": false, \"ragged\": false, \"name\": \"input_193\"}, \"name\": \"input_193\", \"inbound_nodes\": []}, {\"class_name\": \"Model\", \"config\": {\"name\": \"vgg16\", \"layers\": [{\"class_name\": \"InputLayer\", \"config\": {\"batch_input_shape\": [null, 80, 80, 3], \"dtype\": \"float32\", \"sparse\": false, \"ragged\": false, \"name\": \"input_1\"}, \"name\": \"input_1\", \"inbound_nodes\": []}, {\"class_name\": \"Conv2D\", \"config\": {\"name\": \"block1_conv1\", \"trainable\": false, \"dtype\": \"float32\", \"filters\": 64, \"kernel_size\": [3, 3], \"strides\": [1, 1], \"padding\": \"same\", \"data_format\": \"channels_last\", \"dilation_rate\": [1, 1], \"activation\": \"relu\", \"use_bias\": true, \"kernel_initializer\": {\"class_name\": \"GlorotUniform\", \"config\": {\"seed\": null}}, \"bias_initializer\": {\"class_name\": \"Zeros\", \"config\": {}}, \"kernel_regularizer\": null, \"bias_regularizer\": null, \"activity_regularizer\": null, \"kernel_constraint\": null, \"bias_constraint\": null}, \"name\": \"block1_conv1\", \"inbound_nodes\": [[[\"input_1\", 0, 0, {}]]]}, {\"class_name\": \"Conv2D\", \"config\": {\"name\": \"block1_conv2\", \"trainable\": false, \"dtype\": \"float32\", \"filters\": 64, \"kernel_size\": [3, 3], \"strides\": [1, 1], \"padding\": \"same\", \"data_format\": \"channels_last\", \"dilation_rate\": [1, 1], \"activation\": \"relu\", \"use_bias\": true, \"kernel_initializer\": {\"class_name\": \"GlorotUniform\", \"config\": {\"seed\": null}}, \"bias_initializer\": {\"class_name\": \"Zeros\", \"config\": {}}, \"kernel_regularizer\": null, \"bias_regularizer\": null, \"activity_regularizer\": null, \"kernel_constraint\": null, \"bias_constraint\": null}, \"name\": \"block1_conv2\", \"inbound_nodes\": [[[\"block1_conv1\", 0, 0, {}]]]}, {\"class_name\": \"MaxPooling2D\", \"config\": {\"name\": \"block1_pool\", \"trainable\": false, \"dtype\": \"float32\", \"pool_size\": [2, 2], \"padding\": \"valid\", \"strides\": [2, 2], \"data_format\": \"channels_last\"}, \"name\": \"block1_pool\", \"inbound_nodes\": [[[\"block1_conv2\", 0, 0, {}]]]}, {\"class_name\": \"Conv2D\", \"config\": {\"name\": \"block2_conv1\", \"trainable\": false, \"dtype\": \"float32\", \"filters\": 128, \"kernel_size\": [3, 3], \"strides\": [1, 1], \"padding\": \"same\", \"data_format\": \"channels_last\", \"dilation_rate\": [1, 1], \"activation\": \"relu\", \"use_bias\": true, \"kernel_initializer\": {\"class_name\": \"GlorotUniform\", \"config\": {\"seed\": null}}, \"bias_initializer\": {\"class_name\": \"Zeros\", \"config\": {}}, \"kernel_regularizer\": null, \"bias_regularizer\": null, \"activity_regularizer\": null, \"kernel_constraint\": null, \"bias_constraint\": null}, \"name\": \"block2_conv1\", \"inbound_nodes\": [[[\"block1_pool\", 0, 0, {}]]]}, {\"class_name\": \"Conv2D\", \"config\": {\"name\": \"block2_conv2\", \"trainable\": false, \"dtype\": \"float32\", \"filters\": 128, \"kernel_size\": [3, 3], \"strides\": [1, 1], \"padding\": \"same\", \"data_format\": \"channels_last\", \"dilation_rate\": [1, 1], \"activation\": \"relu\", \"use_bias\": true, \"kernel_initializer\": {\"class_name\": \"GlorotUniform\", \"config\": {\"seed\": null}}, \"bias_initializer\": {\"class_name\": \"Zeros\", \"config\": {}}, \"kernel_regularizer\": null, \"bias_regularizer\": null, \"activity_regularizer\": null, \"kernel_constraint\": null, \"bias_constraint\": null}, \"name\": \"block2_conv2\", \"inbound_nodes\": [[[\"block2_conv1\", 0, 0, {}]]]}, {\"class_name\": \"MaxPooling2D\", \"config\": {\"name\": \"block2_pool\", \"trainable\": false, \"dtype\": \"float32\", \"pool_size\": [2, 2], \"padding\": \"valid\", \"strides\": [2, 2], \"data_format\": \"channels_last\"}, \"name\": \"block2_pool\", \"inbound_nodes\": [[[\"block2_conv2\", 0, 0, {}]]]}, {\"class_name\": \"Conv2D\", \"config\": {\"name\": \"block3_conv1\", \"trainable\": false, \"dtype\": \"float32\", \"filters\": 256, \"kernel_size\": [3, 3], \"strides\": [1, 1], \"padding\": \"same\", \"data_format\": \"channels_last\", \"dilation_rate\": [1, 1], \"activation\": \"relu\", \"use_bias\": true, \"kernel_initializer\": {\"class_name\": \"GlorotUniform\", \"config\": {\"seed\": null}}, \"bias_initializer\": {\"class_name\": \"Zeros\", \"config\": {}}, \"kernel_regularizer\": null, \"bias_regularizer\": null, \"activity_regularizer\": null, \"kernel_constraint\": null, \"bias_constraint\": null}, \"name\": \"block3_conv1\", \"inbound_nodes\": [[[\"block2_pool\", 0, 0, {}]]]}, {\"class_name\": \"Conv2D\", \"config\": {\"name\": \"block3_conv2\", \"trainable\": false, \"dtype\": \"float32\", \"filters\": 256, \"kernel_size\": [3, 3], \"strides\": [1, 1], \"padding\": \"same\", \"data_format\": \"channels_last\", \"dilation_rate\": [1, 1], \"activation\": \"relu\", \"use_bias\": true, \"kernel_initializer\": {\"class_name\": \"GlorotUniform\", \"config\": {\"seed\": null}}, \"bias_initializer\": {\"class_name\": \"Zeros\", \"config\": {}}, \"kernel_regularizer\": null, \"bias_regularizer\": null, \"activity_regularizer\": null, \"kernel_constraint\": null, \"bias_constraint\": null}, \"name\": \"block3_conv2\", \"inbound_nodes\": [[[\"block3_conv1\", 0, 0, {}]]]}, {\"class_name\": \"Conv2D\", \"config\": {\"name\": \"block3_conv3\", \"trainable\": false, \"dtype\": \"float32\", \"filters\": 256, \"kernel_size\": [3, 3], \"strides\": [1, 1], \"padding\": \"same\", \"data_format\": \"channels_last\", \"dilation_rate\": [1, 1], \"activation\": \"relu\", \"use_bias\": true, \"kernel_initializer\": {\"class_name\": \"GlorotUniform\", \"config\": {\"seed\": null}}, \"bias_initializer\": {\"class_name\": \"Zeros\", \"config\": {}}, \"kernel_regularizer\": null, \"bias_regularizer\": null, \"activity_regularizer\": null, \"kernel_constraint\": null, \"bias_constraint\": null}, \"name\": \"block3_conv3\", \"inbound_nodes\": [[[\"block3_conv2\", 0, 0, {}]]]}, {\"class_name\": \"MaxPooling2D\", \"config\": {\"name\": \"block3_pool\", \"trainable\": false, \"dtype\": \"float32\", \"pool_size\": [2, 2], \"padding\": \"valid\", \"strides\": [2, 2], \"data_format\": \"channels_last\"}, \"name\": \"block3_pool\", \"inbound_nodes\": [[[\"block3_conv3\", 0, 0, {}]]]}, {\"class_name\": \"Conv2D\", \"config\": {\"name\": \"block4_conv1\", \"trainable\": false, \"dtype\": \"float32\", \"filters\": 512, \"kernel_size\": [3, 3], \"strides\": [1, 1], \"padding\": \"same\", \"data_format\": \"channels_last\", \"dilation_rate\": [1, 1], \"activation\": \"relu\", \"use_bias\": true, \"kernel_initializer\": {\"class_name\": \"GlorotUniform\", \"config\": {\"seed\": null}}, \"bias_initializer\": {\"class_name\": \"Zeros\", \"config\": {}}, \"kernel_regularizer\": null, \"bias_regularizer\": null, \"activity_regularizer\": null, \"kernel_constraint\": null, \"bias_constraint\": null}, \"name\": \"block4_conv1\", \"inbound_nodes\": [[[\"block3_pool\", 0, 0, {}]]]}, {\"class_name\": \"Conv2D\", \"config\": {\"name\": \"block4_conv2\", \"trainable\": false, \"dtype\": \"float32\", \"filters\": 512, \"kernel_size\": [3, 3], \"strides\": [1, 1], \"padding\": \"same\", \"data_format\": \"channels_last\", \"dilation_rate\": [1, 1], \"activation\": \"relu\", \"use_bias\": true, \"kernel_initializer\": {\"class_name\": \"GlorotUniform\", \"config\": {\"seed\": null}}, \"bias_initializer\": {\"class_name\": \"Zeros\", \"config\": {}}, \"kernel_regularizer\": null, \"bias_regularizer\": null, \"activity_regularizer\": null, \"kernel_constraint\": null, \"bias_constraint\": null}, \"name\": \"block4_conv2\", \"inbound_nodes\": [[[\"block4_conv1\", 0, 0, {}]]]}, {\"class_name\": \"Conv2D\", \"config\": {\"name\": \"block4_conv3\", \"trainable\": false, \"dtype\": \"float32\", \"filters\": 512, \"kernel_size\": [3, 3], \"strides\": [1, 1], \"padding\": \"same\", \"data_format\": \"channels_last\", \"dilation_rate\": [1, 1], \"activation\": \"relu\", \"use_bias\": true, \"kernel_initializer\": {\"class_name\": \"GlorotUniform\", \"config\": {\"seed\": null}}, \"bias_initializer\": {\"class_name\": \"Zeros\", \"config\": {}}, \"kernel_regularizer\": null, \"bias_regularizer\": null, \"activity_regularizer\": null, \"kernel_constraint\": null, \"bias_constraint\": null}, \"name\": \"block4_conv3\", \"inbound_nodes\": [[[\"block4_conv2\", 0, 0, {}]]]}, {\"class_name\": \"MaxPooling2D\", \"config\": {\"name\": \"block4_pool\", \"trainable\": false, \"dtype\": \"float32\", \"pool_size\": [2, 2], \"padding\": \"valid\", \"strides\": [2, 2], \"data_format\": \"channels_last\"}, \"name\": \"block4_pool\", \"inbound_nodes\": [[[\"block4_conv3\", 0, 0, {}]]]}, {\"class_name\": \"Conv2D\", \"config\": {\"name\": \"block5_conv1\", \"trainable\": false, \"dtype\": \"float32\", \"filters\": 512, \"kernel_size\": [3, 3], \"strides\": [1, 1], \"padding\": \"same\", \"data_format\": \"channels_last\", \"dilation_rate\": [1, 1], \"activation\": \"relu\", \"use_bias\": true, \"kernel_initializer\": {\"class_name\": \"GlorotUniform\", \"config\": {\"seed\": null}}, \"bias_initializer\": {\"class_name\": \"Zeros\", \"config\": {}}, \"kernel_regularizer\": null, \"bias_regularizer\": null, \"activity_regularizer\": null, \"kernel_constraint\": null, \"bias_constraint\": null}, \"name\": \"block5_conv1\", \"inbound_nodes\": [[[\"block4_pool\", 0, 0, {}]]]}, {\"class_name\": \"Conv2D\", \"config\": {\"name\": \"block5_conv2\", \"trainable\": true, \"dtype\": \"float32\", \"filters\": 512, \"kernel_size\": [3, 3], \"strides\": [1, 1], \"padding\": \"same\", \"data_format\": \"channels_last\", \"dilation_rate\": [1, 1], \"activation\": \"relu\", \"use_bias\": true, \"kernel_initializer\": {\"class_name\": \"GlorotUniform\", \"config\": {\"seed\": null}}, \"bias_initializer\": {\"class_name\": \"Zeros\", \"config\": {}}, \"kernel_regularizer\": null, \"bias_regularizer\": null, \"activity_regularizer\": null, \"kernel_constraint\": null, \"bias_constraint\": null}, \"name\": \"block5_conv2\", \"inbound_nodes\": [[[\"block5_conv1\", 0, 0, {}]]]}, {\"class_name\": \"Conv2D\", \"config\": {\"name\": \"block5_conv3\", \"trainable\": true, \"dtype\": \"float32\", \"filters\": 512, \"kernel_size\": [3, 3], \"strides\": [1, 1], \"padding\": \"same\", \"data_format\": \"channels_last\", \"dilation_rate\": [1, 1], \"activation\": \"relu\", \"use_bias\": true, \"kernel_initializer\": {\"class_name\": \"GlorotUniform\", \"config\": {\"seed\": null}}, \"bias_initializer\": {\"class_name\": \"Zeros\", \"config\": {}}, \"kernel_regularizer\": null, \"bias_regularizer\": null, \"activity_regularizer\": null, \"kernel_constraint\": null, \"bias_constraint\": null}, \"name\": \"block5_conv3\", \"inbound_nodes\": [[[\"block5_conv2\", 0, 0, {}]]]}, {\"class_name\": \"MaxPooling2D\", \"config\": {\"name\": \"block5_pool\", \"trainable\": true, \"dtype\": \"float32\", \"pool_size\": [2, 2], \"padding\": \"valid\", \"strides\": [2, 2], \"data_format\": \"channels_last\"}, \"name\": \"block5_pool\", \"inbound_nodes\": [[[\"block5_conv3\", 0, 0, {}]]]}], \"input_layers\": [[\"input_1\", 0, 0]], \"output_layers\": [[\"block5_pool\", 0, 0]]}, \"name\": \"vgg16\", \"inbound_nodes\": [[[\"input_130\", 0, 0, {}]], [[\"input_131\", 0, 0, {}]], [[\"input_132\", 0, 0, {}]], [[\"input_133\", 0, 0, {}]], [[\"input_134\", 0, 0, {}]], [[\"input_135\", 0, 0, {}]], [[\"input_136\", 0, 0, {}]], [[\"input_137\", 0, 0, {}]], [[\"input_138\", 0, 0, {}]], [[\"input_139\", 0, 0, {}]], [[\"input_140\", 0, 0, {}]], [[\"input_141\", 0, 0, {}]], [[\"input_142\", 0, 0, {}]], [[\"input_143\", 0, 0, {}]], [[\"input_144\", 0, 0, {}]], [[\"input_145\", 0, 0, {}]], [[\"input_146\", 0, 0, {}]], [[\"input_147\", 0, 0, {}]], [[\"input_148\", 0, 0, {}]], [[\"input_149\", 0, 0, {}]], [[\"input_150\", 0, 0, {}]], [[\"input_151\", 0, 0, {}]], [[\"input_152\", 0, 0, {}]], [[\"input_153\", 0, 0, {}]], [[\"input_154\", 0, 0, {}]], [[\"input_155\", 0, 0, {}]], [[\"input_156\", 0, 0, {}]], [[\"input_157\", 0, 0, {}]], [[\"input_158\", 0, 0, {}]], [[\"input_159\", 0, 0, {}]], [[\"input_160\", 0, 0, {}]], [[\"input_161\", 0, 0, {}]], [[\"input_162\", 0, 0, {}]], [[\"input_163\", 0, 0, {}]], [[\"input_164\", 0, 0, {}]], [[\"input_165\", 0, 0, {}]], [[\"input_166\", 0, 0, {}]], [[\"input_167\", 0, 0, {}]], [[\"input_168\", 0, 0, {}]], [[\"input_169\", 0, 0, {}]], [[\"input_170\", 0, 0, {}]], [[\"input_171\", 0, 0, {}]], [[\"input_172\", 0, 0, {}]], [[\"input_173\", 0, 0, {}]], [[\"input_174\", 0, 0, {}]], [[\"input_175\", 0, 0, {}]], [[\"input_176\", 0, 0, {}]], [[\"input_177\", 0, 0, {}]], [[\"input_178\", 0, 0, {}]], [[\"input_179\", 0, 0, {}]], [[\"input_180\", 0, 0, {}]], [[\"input_181\", 0, 0, {}]], [[\"input_182\", 0, 0, {}]], [[\"input_183\", 0, 0, {}]], [[\"input_184\", 0, 0, {}]], [[\"input_185\", 0, 0, {}]], [[\"input_186\", 0, 0, {}]], [[\"input_187\", 0, 0, {}]], [[\"input_188\", 0, 0, {}]], [[\"input_189\", 0, 0, {}]], [[\"input_190\", 0, 0, {}]], [[\"input_191\", 0, 0, {}]], [[\"input_192\", 0, 0, {}]], [[\"input_193\", 0, 0, {}]]]}, {\"class_name\": \"Flatten\", \"config\": {\"name\": \"flatten\", \"trainable\": true, \"dtype\": \"float32\", \"data_format\": \"channels_last\"}, \"name\": \"flatten\", \"inbound_nodes\": [[[\"vgg16\", 1, 0, {}]], [[\"vgg16\", 2, 0, {}]], [[\"vgg16\", 3, 0, {}]], [[\"vgg16\", 4, 0, {}]], [[\"vgg16\", 5, 0, {}]], [[\"vgg16\", 6, 0, {}]], [[\"vgg16\", 7, 0, {}]], [[\"vgg16\", 8, 0, {}]], [[\"vgg16\", 9, 0, {}]], [[\"vgg16\", 10, 0, {}]], [[\"vgg16\", 11, 0, {}]], [[\"vgg16\", 12, 0, {}]], [[\"vgg16\", 13, 0, {}]], [[\"vgg16\", 14, 0, {}]], [[\"vgg16\", 15, 0, {}]], [[\"vgg16\", 16, 0, {}]], [[\"vgg16\", 17, 0, {}]], [[\"vgg16\", 18, 0, {}]], [[\"vgg16\", 19, 0, {}]], [[\"vgg16\", 20, 0, {}]], [[\"vgg16\", 21, 0, {}]], [[\"vgg16\", 22, 0, {}]], [[\"vgg16\", 23, 0, {}]], [[\"vgg16\", 24, 0, {}]], [[\"vgg16\", 25, 0, {}]], [[\"vgg16\", 26, 0, {}]], [[\"vgg16\", 27, 0, {}]], [[\"vgg16\", 28, 0, {}]], [[\"vgg16\", 29, 0, {}]], [[\"vgg16\", 30, 0, {}]], [[\"vgg16\", 31, 0, {}]], [[\"vgg16\", 32, 0, {}]], [[\"vgg16\", 33, 0, {}]], [[\"vgg16\", 34, 0, {}]], [[\"vgg16\", 35, 0, {}]], [[\"vgg16\", 36, 0, {}]], [[\"vgg16\", 37, 0, {}]], [[\"vgg16\", 38, 0, {}]], [[\"vgg16\", 39, 0, {}]], [[\"vgg16\", 40, 0, {}]], [[\"vgg16\", 41, 0, {}]], [[\"vgg16\", 42, 0, {}]], [[\"vgg16\", 43, 0, {}]], [[\"vgg16\", 44, 0, {}]], [[\"vgg16\", 45, 0, {}]], [[\"vgg16\", 46, 0, {}]], [[\"vgg16\", 47, 0, {}]], [[\"vgg16\", 48, 0, {}]], [[\"vgg16\", 49, 0, {}]], [[\"vgg16\", 50, 0, {}]], [[\"vgg16\", 51, 0, {}]], [[\"vgg16\", 52, 0, {}]], [[\"vgg16\", 53, 0, {}]], [[\"vgg16\", 54, 0, {}]], [[\"vgg16\", 55, 0, {}]], [[\"vgg16\", 56, 0, {}]], [[\"vgg16\", 57, 0, {}]], [[\"vgg16\", 58, 0, {}]], [[\"vgg16\", 59, 0, {}]], [[\"vgg16\", 60, 0, {}]], [[\"vgg16\", 61, 0, {}]], [[\"vgg16\", 62, 0, {}]], [[\"vgg16\", 63, 0, {}]], [[\"vgg16\", 64, 0, {}]]]}, {\"class_name\": \"Dense\", \"config\": {\"name\": \"dense\", \"trainable\": true, \"dtype\": \"float32\", \"units\": 2048, \"activation\": {\"class_name\": \"Swish\", \"config\": {\"name\": \"swish\", \"trainable\": true, \"dtype\": \"float32\", \"activation\": {\"class_name\": \"Swish\", \"config\": {\"name\": \"swish\", \"trainable\": true, \"dtype\": \"float32\", \"activation\": \"swish\"}}}}, \"use_bias\": true, \"kernel_initializer\": {\"class_name\": \"GlorotUniform\", \"config\": {\"seed\": null}}, \"bias_initializer\": {\"class_name\": \"Zeros\", \"config\": {}}, \"kernel_regularizer\": {\"class_name\": \"L1L2\", \"config\": {\"l1\": 0.004999999888241291, \"l2\": 0.0}}, \"bias_regularizer\": null, \"activity_regularizer\": null, \"kernel_constraint\": null, \"bias_constraint\": null}, \"name\": \"dense\", \"inbound_nodes\": [[[\"flatten\", 0, 0, {}]], [[\"flatten\", 1, 0, {}]], [[\"flatten\", 2, 0, {}]], [[\"flatten\", 3, 0, {}]], [[\"flatten\", 4, 0, {}]], [[\"flatten\", 5, 0, {}]], [[\"flatten\", 6, 0, {}]], [[\"flatten\", 7, 0, {}]], [[\"flatten\", 8, 0, {}]], [[\"flatten\", 9, 0, {}]], [[\"flatten\", 10, 0, {}]], [[\"flatten\", 11, 0, {}]], [[\"flatten\", 12, 0, {}]], [[\"flatten\", 13, 0, {}]], [[\"flatten\", 14, 0, {}]], [[\"flatten\", 15, 0, {}]], [[\"flatten\", 16, 0, {}]], [[\"flatten\", 17, 0, {}]], [[\"flatten\", 18, 0, {}]], [[\"flatten\", 19, 0, {}]], [[\"flatten\", 20, 0, {}]], [[\"flatten\", 21, 0, {}]], [[\"flatten\", 22, 0, {}]], [[\"flatten\", 23, 0, {}]], [[\"flatten\", 24, 0, {}]], [[\"flatten\", 25, 0, {}]], [[\"flatten\", 26, 0, {}]], [[\"flatten\", 27, 0, {}]], [[\"flatten\", 28, 0, {}]], [[\"flatten\", 29, 0, {}]], [[\"flatten\", 30, 0, {}]], [[\"flatten\", 31, 0, {}]], [[\"flatten\", 32, 0, {}]], [[\"flatten\", 33, 0, {}]], [[\"flatten\", 34, 0, {}]], [[\"flatten\", 35, 0, {}]], [[\"flatten\", 36, 0, {}]], [[\"flatten\", 37, 0, {}]], [[\"flatten\", 38, 0, {}]], [[\"flatten\", 39, 0, {}]], [[\"flatten\", 40, 0, {}]], [[\"flatten\", 41, 0, {}]], [[\"flatten\", 42, 0, {}]], [[\"flatten\", 43, 0, {}]], [[\"flatten\", 44, 0, {}]], [[\"flatten\", 45, 0, {}]], [[\"flatten\", 46, 0, {}]], [[\"flatten\", 47, 0, {}]], [[\"flatten\", 48, 0, {}]], [[\"flatten\", 49, 0, {}]], [[\"flatten\", 50, 0, {}]], [[\"flatten\", 51, 0, {}]], [[\"flatten\", 52, 0, {}]], [[\"flatten\", 53, 0, {}]], [[\"flatten\", 54, 0, {}]], [[\"flatten\", 55, 0, {}]], [[\"flatten\", 56, 0, {}]], [[\"flatten\", 57, 0, {}]], [[\"flatten\", 58, 0, {}]], [[\"flatten\", 59, 0, {}]], [[\"flatten\", 60, 0, {}]], [[\"flatten\", 61, 0, {}]], [[\"flatten\", 62, 0, {}]], [[\"flatten\", 63, 0, {}]]]}, {\"class_name\": \"Dense\", \"config\": {\"name\": \"dense_1\", \"trainable\": true, \"dtype\": \"float32\", \"units\": 128, \"activation\": \"linear\", \"use_bias\": true, \"kernel_initializer\": {\"class_name\": \"GlorotUniform\", \"config\": {\"seed\": null}}, \"bias_initializer\": {\"class_name\": \"Zeros\", \"config\": {}}, \"kernel_regularizer\": {\"class_name\": \"L1L2\", \"config\": {\"l1\": 0.004999999888241291, \"l2\": 0.0}}, \"bias_regularizer\": null, \"activity_regularizer\": null, \"kernel_constraint\": null, \"bias_constraint\": null}, \"name\": \"dense_1\", \"inbound_nodes\": [[[\"dense\", 0, 0, {}]], [[\"dense\", 1, 0, {}]], [[\"dense\", 2, 0, {}]], [[\"dense\", 3, 0, {}]], [[\"dense\", 4, 0, {}]], [[\"dense\", 5, 0, {}]], [[\"dense\", 6, 0, {}]], [[\"dense\", 7, 0, {}]], [[\"dense\", 8, 0, {}]], [[\"dense\", 9, 0, {}]], [[\"dense\", 10, 0, {}]], [[\"dense\", 11, 0, {}]], [[\"dense\", 12, 0, {}]], [[\"dense\", 13, 0, {}]], [[\"dense\", 14, 0, {}]], [[\"dense\", 15, 0, {}]], [[\"dense\", 16, 0, {}]], [[\"dense\", 17, 0, {}]], [[\"dense\", 18, 0, {}]], [[\"dense\", 19, 0, {}]], [[\"dense\", 20, 0, {}]], [[\"dense\", 21, 0, {}]], [[\"dense\", 22, 0, {}]], [[\"dense\", 23, 0, {}]], [[\"dense\", 24, 0, {}]], [[\"dense\", 25, 0, {}]], [[\"dense\", 26, 0, {}]], [[\"dense\", 27, 0, {}]], [[\"dense\", 28, 0, {}]], [[\"dense\", 29, 0, {}]], [[\"dense\", 30, 0, {}]], [[\"dense\", 31, 0, {}]], [[\"dense\", 32, 0, {}]], [[\"dense\", 33, 0, {}]], [[\"dense\", 34, 0, {}]], [[\"dense\", 35, 0, {}]], [[\"dense\", 36, 0, {}]], [[\"dense\", 37, 0, {}]], [[\"dense\", 38, 0, {}]], [[\"dense\", 39, 0, {}]], [[\"dense\", 40, 0, {}]], [[\"dense\", 41, 0, {}]], [[\"dense\", 42, 0, {}]], [[\"dense\", 43, 0, {}]], [[\"dense\", 44, 0, {}]], [[\"dense\", 45, 0, {}]], [[\"dense\", 46, 0, {}]], [[\"dense\", 47, 0, {}]], [[\"dense\", 48, 0, {}]], [[\"dense\", 49, 0, {}]], [[\"dense\", 50, 0, {}]], [[\"dense\", 51, 0, {}]], [[\"dense\", 52, 0, {}]], [[\"dense\", 53, 0, {}]], [[\"dense\", 54, 0, {}]], [[\"dense\", 55, 0, {}]], [[\"dense\", 56, 0, {}]], [[\"dense\", 57, 0, {}]], [[\"dense\", 58, 0, {}]], [[\"dense\", 59, 0, {}]], [[\"dense\", 60, 0, {}]], [[\"dense\", 61, 0, {}]], [[\"dense\", 62, 0, {}]], [[\"dense\", 63, 0, {}]]]}, {\"class_name\": \"SoftmaxCosineSim\", \"config\": {\"name\": \"softmax_cosine_sim\", \"trainable\": true, \"dtype\": \"float32\", \"batch_size\": 32, \"feat_dim\": 2048, \"units\": [32, 8192], \"input_dim\": [[null, 2048], [null, 2048], [null, 2048], [null, 2048], [null, 2048], [null, 2048], [null, 2048], [null, 2048], [null, 2048], [null, 2048], [null, 2048], [null, 2048], [null, 2048], [null, 2048], [null, 2048], [null, 2048], [null, 2048], [null, 2048], [null, 2048], [null, 2048], [null, 2048], [null, 2048], [null, 2048], [null, 2048], [null, 2048], [null, 2048], [null, 2048], [null, 2048], [null, 2048], [null, 2048], [null, 2048], [null, 2048], [null, 2048], [null, 2048], [null, 2048], [null, 2048], [null, 2048], [null, 2048], [null, 2048], [null, 2048], [null, 2048], [null, 2048], [null, 2048], [null, 2048], [null, 2048], [null, 2048], [null, 2048], [null, 2048], [null, 2048], [null, 2048], [null, 2048], [null, 2048], [null, 2048], [null, 2048], [null, 2048], [null, 2048], [null, 2048], [null, 2048], [null, 2048], [null, 2048], [null, 2048], [null, 2048], [null, 2048], [null, 2048]], \"temperature\": 0.1, \"LARGE_NUM\": 1000000000.0}, \"name\": \"softmax_cosine_sim\", \"inbound_nodes\": [[[\"dense_1\", 0, 0, {}], [\"dense_1\", 1, 0, {}], [\"dense_1\", 2, 0, {}], [\"dense_1\", 3, 0, {}], [\"dense_1\", 4, 0, {}], [\"dense_1\", 5, 0, {}], [\"dense_1\", 6, 0, {}], [\"dense_1\", 7, 0, {}], [\"dense_1\", 8, 0, {}], [\"dense_1\", 9, 0, {}], [\"dense_1\", 10, 0, {}], [\"dense_1\", 11, 0, {}], [\"dense_1\", 12, 0, {}], [\"dense_1\", 13, 0, {}], [\"dense_1\", 14, 0, {}], [\"dense_1\", 15, 0, {}], [\"dense_1\", 16, 0, {}], [\"dense_1\", 17, 0, {}], [\"dense_1\", 18, 0, {}], [\"dense_1\", 19, 0, {}], [\"dense_1\", 20, 0, {}], [\"dense_1\", 21, 0, {}], [\"dense_1\", 22, 0, {}], [\"dense_1\", 23, 0, {}], [\"dense_1\", 24, 0, {}], [\"dense_1\", 25, 0, {}], [\"dense_1\", 26, 0, {}], [\"dense_1\", 27, 0, {}], [\"dense_1\", 28, 0, {}], [\"dense_1\", 29, 0, {}], [\"dense_1\", 30, 0, {}], [\"dense_1\", 31, 0, {}], [\"dense_1\", 32, 0, {}], [\"dense_1\", 33, 0, {}], [\"dense_1\", 34, 0, {}], [\"dense_1\", 35, 0, {}], [\"dense_1\", 36, 0, {}], [\"dense_1\", 37, 0, {}], [\"dense_1\", 38, 0, {}], [\"dense_1\", 39, 0, {}], [\"dense_1\", 40, 0, {}], [\"dense_1\", 41, 0, {}], [\"dense_1\", 42, 0, {}], [\"dense_1\", 43, 0, {}], [\"dense_1\", 44, 0, {}], [\"dense_1\", 45, 0, {}], [\"dense_1\", 46, 0, {}], [\"dense_1\", 47, 0, {}], [\"dense_1\", 48, 0, {}], [\"dense_1\", 49, 0, {}], [\"dense_1\", 50, 0, {}], [\"dense_1\", 51, 0, {}], [\"dense_1\", 52, 0, {}], [\"dense_1\", 53, 0, {}], [\"dense_1\", 54, 0, {}], [\"dense_1\", 55, 0, {}], [\"dense_1\", 56, 0, {}], [\"dense_1\", 57, 0, {}], [\"dense_1\", 58, 0, {}], [\"dense_1\", 59, 0, {}], [\"dense_1\", 60, 0, {}], [\"dense_1\", 61, 0, {}], [\"dense_1\", 62, 0, {}], [\"dense_1\", 63, 0, {}]]]}], \"input_layers\": [[\"input_130\", 0, 0], [\"input_131\", 0, 0], [\"input_132\", 0, 0], [\"input_133\", 0, 0], [\"input_134\", 0, 0], [\"input_135\", 0, 0], [\"input_136\", 0, 0], [\"input_137\", 0, 0], [\"input_138\", 0, 0], [\"input_139\", 0, 0], [\"input_140\", 0, 0], [\"input_141\", 0, 0], [\"input_142\", 0, 0], [\"input_143\", 0, 0], [\"input_144\", 0, 0], [\"input_145\", 0, 0], [\"input_146\", 0, 0], [\"input_147\", 0, 0], [\"input_148\", 0, 0], [\"input_149\", 0, 0], [\"input_150\", 0, 0], [\"input_151\", 0, 0], [\"input_152\", 0, 0], [\"input_153\", 0, 0], [\"input_154\", 0, 0], [\"input_155\", 0, 0], [\"input_156\", 0, 0], [\"input_157\", 0, 0], [\"input_158\", 0, 0], [\"input_159\", 0, 0], [\"input_160\", 0, 0], [\"input_161\", 0, 0], [\"input_162\", 0, 0], [\"input_163\", 0, 0], [\"input_164\", 0, 0], [\"input_165\", 0, 0], [\"input_166\", 0, 0], [\"input_167\", 0, 0], [\"input_168\", 0, 0], [\"input_169\", 0, 0], [\"input_170\", 0, 0], [\"input_171\", 0, 0], [\"input_172\", 0, 0], [\"input_173\", 0, 0], [\"input_174\", 0, 0], [\"input_175\", 0, 0], [\"input_176\", 0, 0], [\"input_177\", 0, 0], [\"input_178\", 0, 0], [\"input_179\", 0, 0], [\"input_180\", 0, 0], [\"input_181\", 0, 0], [\"input_182\", 0, 0], [\"input_183\", 0, 0], [\"input_184\", 0, 0], [\"input_185\", 0, 0], [\"input_186\", 0, 0], [\"input_187\", 0, 0], [\"input_188\", 0, 0], [\"input_189\", 0, 0], [\"input_190\", 0, 0], [\"input_191\", 0, 0], [\"input_192\", 0, 0], [\"input_193\", 0, 0]], \"output_layers\": [[\"softmax_cosine_sim\", 0, 0]]}, \"keras_version\": \"2.2.4-tf\", \"backend\": \"tensorflow\"}\n"
          ],
          "name": "stdout"
        }
      ]
    },
    {
      "cell_type": "code",
      "metadata": {
        "colab": {
          "base_uri": "https://localhost:8080/"
        },
        "id": "Fsx5jbrcEkyY",
        "outputId": "e4f7fb33-c339-4cba-99cc-bc57a6d30757"
      },
      "source": [
        "model_simclr.save('/content/drive/My Drive/Colab Notebooks/simclr_tf_keras_07022021/oct_run/50per_train_data/SimCLRv1-keras-tensorflow/models/models_share/SimCLR/SimCLR_07_07_17h_59.pb')"
      ],
      "execution_count": null,
      "outputs": [
        {
          "output_type": "stream",
          "text": [
            "INFO:tensorflow:Assets written to: /content/drive/My Drive/Colab Notebooks/simclr_tf_keras_07022021/oct_run/50per_train_data/SimCLRv1-keras-tensorflow/models/models_share/SimCLR/SimCLR_07_07_17h_59.pb/assets\n"
          ],
          "name": "stdout"
        }
      ]
    },
    {
      "cell_type": "code",
      "metadata": {
        "id": "VuFA7OB0FUv6"
      },
      "source": [
        "class_model_100per = load_model('/content/drive/My Drive/Colab Notebooks/simclr_tf_keras_07022021/oct_run/50per_train_data/SimCLRv1-keras-tensorflow/models/trashnet/NL_classifier/classifier_pr_1.0.h5', custom_objects={'Swish':Swish})"
      ],
      "execution_count": null,
      "outputs": []
    },
    {
      "cell_type": "code",
      "metadata": {
        "id": "iJd3LshYFZQd"
      },
      "source": [
        "os.chdir('/content/drive/My Drive/Colab Notebooks/simclr_tf_keras_07022021/oct_run/50per_train_data/SimCLRv1-keras-tensorflow/models/models_share')\n",
        "\n"
      ],
      "execution_count": null,
      "outputs": []
    },
    {
      "cell_type": "code",
      "metadata": {
        "colab": {
          "base_uri": "https://localhost:8080/"
        },
        "id": "hE19E5D2xtka",
        "outputId": "25d9dcca-1335-4db2-bbed-dd520d81153e"
      },
      "source": [
        "class_model_100per.save('/content/drive/My Drive/Colab Notebooks/simclr_tf_keras_07022021/oct_run/50per_train_data/SimCLRv1-keras-tensorflow/models/models_share/NL_classifier_100per.pb')"
      ],
      "execution_count": null,
      "outputs": [
        {
          "output_type": "stream",
          "text": [
            "INFO:tensorflow:Assets written to: /content/drive/My Drive/Colab Notebooks/simclr_tf_keras_07022021/oct_run/50per_train_data/SimCLRv1-keras-tensorflow/models/models_share/NL_classifier_100per.pb/assets\n"
          ],
          "name": "stdout"
        }
      ]
    },
    {
      "cell_type": "code",
      "metadata": {
        "id": "50-7hzAZ_Sqk"
      },
      "source": [
        "model_json = class_model_100per.to_json()\n",
        "with open('/content/drive/My Drive/Colab Notebooks/simclr_tf_keras_07022021/oct_run/50per_train_data/SimCLRv1-keras-tensorflow/models/trashnet/models_share/NL_classifier_100per.json','w') as json_file:\n",
        "  json_file.write(model_json)"
      ],
      "execution_count": null,
      "outputs": []
    },
    {
      "cell_type": "code",
      "metadata": {
        "id": "pEIGRDjNyrvk",
        "colab": {
          "base_uri": "https://localhost:8080/",
          "height": 180
        },
        "outputId": "8ad28a05-b6e9-402b-8aa9-def5a03a11c0"
      },
      "source": [
        "class_model_20per = load_model('/content/drive/My Drive/Colab Notebooks/simclr_tf_keras_07022021/oct_run/50per_train_data/SimCLRv1-keras-tensorflow/models/trashnet/NL_classifier/classifier_pr_0.2.h5', custom_objects={'Swish':Swish})\n"
      ],
      "execution_count": null,
      "outputs": [
        {
          "output_type": "error",
          "ename": "NameError",
          "evalue": "ignored",
          "traceback": [
            "\u001b[0;31m---------------------------------------------------------------------------\u001b[0m",
            "\u001b[0;31mNameError\u001b[0m                                 Traceback (most recent call last)",
            "\u001b[0;32m<ipython-input-1-c933e2c3e946>\u001b[0m in \u001b[0;36m<module>\u001b[0;34m()\u001b[0m\n\u001b[0;32m----> 1\u001b[0;31m \u001b[0mclass_model_20per\u001b[0m \u001b[0;34m=\u001b[0m \u001b[0mload_model\u001b[0m\u001b[0;34m(\u001b[0m\u001b[0;34m'/content/drive/My Drive/Colab Notebooks/simclr_tf_keras_07022021/oct_run/50per_train_data/SimCLRv1-keras-tensorflow/models/trashnet/NL_classifier/classifier_pr_0.2.h5'\u001b[0m\u001b[0;34m,\u001b[0m \u001b[0mcustom_objects\u001b[0m\u001b[0;34m=\u001b[0m\u001b[0;34m{\u001b[0m\u001b[0;34m'Swish'\u001b[0m\u001b[0;34m:\u001b[0m\u001b[0mSwish\u001b[0m\u001b[0;34m}\u001b[0m\u001b[0;34m)\u001b[0m\u001b[0;34m\u001b[0m\u001b[0;34m\u001b[0m\u001b[0m\n\u001b[0m",
            "\u001b[0;31mNameError\u001b[0m: name 'load_model' is not defined"
          ]
        }
      ]
    },
    {
      "cell_type": "code",
      "metadata": {
        "colab": {
          "base_uri": "https://localhost:8080/"
        },
        "id": "e987C5ft0Nhi",
        "outputId": "0c2802f0-c261-4b3f-925e-0bd365080cfe"
      },
      "source": [
        "class_model_200per.save('/content/drive/My Drive/Colab Notebooks/simclr_tf_keras_07022021/oct_run/50per_train_data/SimCLRv1-keras-tensorflow/models/models_share/NL_classifier_20per.pb')"
      ],
      "execution_count": null,
      "outputs": [
        {
          "output_type": "stream",
          "text": [
            "INFO:tensorflow:Assets written to: /content/drive/My Drive/Colab Notebooks/simclr_tf_keras_07022021/oct_run/50per_train_data/SimCLRv1-keras-tensorflow/models/models_share/NL_classifier_20per.pb/assets\n"
          ],
          "name": "stdout"
        }
      ]
    },
    {
      "cell_type": "code",
      "metadata": {
        "id": "RUlLo-G3_0cV"
      },
      "source": [
        "model_json = class_model_20per.to_json()\n",
        "with open('/content/drive/My Drive/Colab Notebooks/simclr_tf_keras_07022021/oct_run/50per_train_data/SimCLRv1-keras-tensorflow/models/trashnet/models_share/NL_classifier_20per.json','w') as json_file:\n",
        "  json_file.write(model_json)"
      ],
      "execution_count": null,
      "outputs": []
    },
    {
      "cell_type": "code",
      "metadata": {
        "id": "d1YaSTAZ0VLU"
      },
      "source": [
        "class_model_5per = load_model('/content/drive/My Drive/Colab Notebooks/simclr_tf_keras_07022021/oct_run/50per_train_data/SimCLRv1-keras-tensorflow/models/trashnet/NL_classifier/classifier_pr_0.05.h5', custom_objects={'Swish':Swish})\n"
      ],
      "execution_count": null,
      "outputs": []
    },
    {
      "cell_type": "code",
      "metadata": {
        "id": "kuNsRiU80iAn",
        "colab": {
          "base_uri": "https://localhost:8080/"
        },
        "outputId": "f4a22680-cc6f-41f9-ac5f-3b3a412c1228"
      },
      "source": [
        "class_model_5per.save('/content/drive/My Drive/Colab Notebooks/simclr_tf_keras_07022021/oct_run/50per_train_data/SimCLRv1-keras-tensorflow/models/models_share/NL_classifier_5per.pb')"
      ],
      "execution_count": null,
      "outputs": [
        {
          "output_type": "stream",
          "text": [
            "INFO:tensorflow:Assets written to: /content/drive/My Drive/Colab Notebooks/simclr_tf_keras_07022021/oct_run/50per_train_data/SimCLRv1-keras-tensorflow/models/models_share/NL_classifier_5per.pb/assets\n"
          ],
          "name": "stdout"
        }
      ]
    },
    {
      "cell_type": "code",
      "metadata": {
        "id": "nfT0958A_8yZ"
      },
      "source": [
        "model_json = class_model_5per.to_json()\n",
        "with open('/content/drive/My Drive/Colab Notebooks/simclr_tf_keras_07022021/oct_run/50per_train_data/SimCLRv1-keras-tensorflow/models/trashnet/models_share/NL_classifier_5per.json','w') as json_file:\n",
        "  json_file.write(model_json)"
      ],
      "execution_count": null,
      "outputs": []
    },
    {
      "cell_type": "code",
      "metadata": {
        "colab": {
          "base_uri": "https://localhost:8080/",
          "height": 35
        },
        "id": "SsO56E-mAA2Y",
        "outputId": "b1fbbf25-8ae6-4312-f6e8-bc1cbd23bc1e"
      },
      "source": [
        "%pwd"
      ],
      "execution_count": null,
      "outputs": [
        {
          "output_type": "execute_result",
          "data": {
            "application/vnd.google.colaboratory.intrinsic+json": {
              "type": "string"
            },
            "text/plain": [
              "'/content/drive/My Drive/Colab Notebooks/simclr_tf_keras_07022021/oct_run/50per_train_data/SimCLRv1-keras-tensorflow/models/models_share'"
            ]
          },
          "metadata": {
            "tags": []
          },
          "execution_count": 39
        }
      ]
    }
  ]
}